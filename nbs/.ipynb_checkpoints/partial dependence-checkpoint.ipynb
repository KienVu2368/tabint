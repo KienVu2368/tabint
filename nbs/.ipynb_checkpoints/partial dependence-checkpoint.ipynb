{
 "cells": [
  {
   "cell_type": "markdown",
   "metadata": {
    "heading_collapsed": true
   },
   "source": [
    "# import"
   ]
  },
  {
   "cell_type": "code",
   "execution_count": 1,
   "metadata": {
    "hidden": true
   },
   "outputs": [],
   "source": [
    "# Suppress warnings \n",
    "import warnings\n",
    "warnings.filterwarnings('ignore')"
   ]
  },
  {
   "cell_type": "code",
   "execution_count": 2,
   "metadata": {
    "hidden": true
   },
   "outputs": [],
   "source": [
    "import numpy as np\n",
    "import pandas as pd \n",
    "from os import path"
   ]
  },
  {
   "cell_type": "code",
   "execution_count": 3,
   "metadata": {
    "hidden": true
   },
   "outputs": [],
   "source": [
    "import taproc as tp\n",
    "from taproc.pre_processing import *\n",
    "from taproc.dataset import *\n",
    "from taproc.learner import *\n",
    "from taproc.feature import *"
   ]
  },
  {
   "cell_type": "markdown",
   "metadata": {
    "heading_collapsed": true
   },
   "source": [
    "# read file"
   ]
  },
  {
   "cell_type": "code",
   "execution_count": 4,
   "metadata": {
    "hidden": true
   },
   "outputs": [],
   "source": [
    "file_path = Path('/media/zero/dropbox/Dropbox/Data science project/kaggle/home_credit_default_risk/data')"
   ]
  },
  {
   "cell_type": "code",
   "execution_count": 5,
   "metadata": {
    "hidden": true
   },
   "outputs": [],
   "source": [
    "app_train = pd.read_csv(str(file_path/'application_train.csv'))"
   ]
  },
  {
   "cell_type": "code",
   "execution_count": 6,
   "metadata": {
    "hidden": true
   },
   "outputs": [],
   "source": [
    "app_train_proc, y, na_dict = tabular_proc(app_train, y_fld = 'TARGET', max_n_cat=15)"
   ]
  },
  {
   "cell_type": "raw",
   "metadata": {
    "hidden": true
   },
   "source": [
    "app_test = pd.read_csv(str(file_path/'application_test.csv'))"
   ]
  },
  {
   "cell_type": "raw",
   "metadata": {
    "hidden": true
   },
   "source": [
    "app_test_proc, _, _ = tabular_proc(app_test, max_n_cat=15, na_dict = na_dict)"
   ]
  },
  {
   "cell_type": "raw",
   "metadata": {
    "hidden": true
   },
   "source": [
    "app_train_proc = app_train_proc[app_test_proc.columns]"
   ]
  },
  {
   "cell_type": "markdown",
   "metadata": {},
   "source": [
    "# dataset"
   ]
  },
  {
   "cell_type": "code",
   "execution_count": 7,
   "metadata": {},
   "outputs": [],
   "source": [
    "dataset = LGBDataset.sklearn_split(app_train_proc, y)"
   ]
  },
  {
   "cell_type": "markdown",
   "metadata": {
    "heading_collapsed": true
   },
   "source": [
    "# baseline model"
   ]
  },
  {
   "cell_type": "code",
   "execution_count": 8,
   "metadata": {
    "code_folding": [],
    "hidden": true
   },
   "outputs": [],
   "source": [
    "params = {\n",
    "    'task': 'train',\n",
    "    'objective': 'binary',\n",
    "    'n_estimators':500,\n",
    "    'learning_rate':0.1,\n",
    "    'num_leaves':30,\n",
    "    'colsample_bytree':.8,\n",
    "    'subsample':.9,\n",
    "    'max_depth':7,\n",
    "    'reg_alpha':.1,\n",
    "    'reg_lambda':.1,\n",
    "    'min_split_gain':.01,\n",
    "    'min_child_weight':2,\n",
    "    'verbose':-1,\n",
    "    'metric': 'binary_logloss'}"
   ]
  },
  {
   "cell_type": "code",
   "execution_count": 9,
   "metadata": {
    "hidden": true
   },
   "outputs": [],
   "source": [
    "learner = LGBLearner(dataset)"
   ]
  },
  {
   "cell_type": "code",
   "execution_count": 10,
   "metadata": {
    "hidden": true,
    "scrolled": true
   },
   "outputs": [
    {
     "name": "stdout",
     "output_type": "stream",
     "text": [
      "[1]\ttraining's binary_logloss: 0.624724\tvalid_1's binary_logloss: 0.624862\n",
      "Training until validation scores don't improve for 50 rounds.\n",
      "[2]\ttraining's binary_logloss: 0.569095\tvalid_1's binary_logloss: 0.569262\n",
      "[3]\ttraining's binary_logloss: 0.522684\tvalid_1's binary_logloss: 0.522992\n",
      "[4]\ttraining's binary_logloss: 0.484029\tvalid_1's binary_logloss: 0.48446\n",
      "[5]\ttraining's binary_logloss: 0.451444\tvalid_1's binary_logloss: 0.45193\n",
      "[6]\ttraining's binary_logloss: 0.42352\tvalid_1's binary_logloss: 0.424138\n",
      "[7]\ttraining's binary_logloss: 0.399703\tvalid_1's binary_logloss: 0.400425\n",
      "[8]\ttraining's binary_logloss: 0.379328\tvalid_1's binary_logloss: 0.380144\n",
      "[9]\ttraining's binary_logloss: 0.361821\tvalid_1's binary_logloss: 0.36273\n",
      "[10]\ttraining's binary_logloss: 0.346933\tvalid_1's binary_logloss: 0.347903\n",
      "[11]\ttraining's binary_logloss: 0.334016\tvalid_1's binary_logloss: 0.335099\n",
      "[12]\ttraining's binary_logloss: 0.32289\tvalid_1's binary_logloss: 0.324018\n",
      "[13]\ttraining's binary_logloss: 0.313109\tvalid_1's binary_logloss: 0.31437\n",
      "[14]\ttraining's binary_logloss: 0.304652\tvalid_1's binary_logloss: 0.305982\n",
      "[15]\ttraining's binary_logloss: 0.297336\tvalid_1's binary_logloss: 0.298757\n",
      "[16]\ttraining's binary_logloss: 0.291081\tvalid_1's binary_logloss: 0.292594\n",
      "[17]\ttraining's binary_logloss: 0.285565\tvalid_1's binary_logloss: 0.287147\n",
      "[18]\ttraining's binary_logloss: 0.280782\tvalid_1's binary_logloss: 0.282455\n",
      "[19]\ttraining's binary_logloss: 0.276709\tvalid_1's binary_logloss: 0.278488\n",
      "[20]\ttraining's binary_logloss: 0.273173\tvalid_1's binary_logloss: 0.275005\n",
      "[21]\ttraining's binary_logloss: 0.269968\tvalid_1's binary_logloss: 0.271871\n",
      "[22]\ttraining's binary_logloss: 0.267208\tvalid_1's binary_logloss: 0.269225\n",
      "[23]\ttraining's binary_logloss: 0.264827\tvalid_1's binary_logloss: 0.2669\n",
      "[24]\ttraining's binary_logloss: 0.262752\tvalid_1's binary_logloss: 0.26491\n",
      "[25]\ttraining's binary_logloss: 0.260895\tvalid_1's binary_logloss: 0.263139\n",
      "[26]\ttraining's binary_logloss: 0.259286\tvalid_1's binary_logloss: 0.261614\n",
      "[27]\ttraining's binary_logloss: 0.257858\tvalid_1's binary_logloss: 0.260252\n",
      "[28]\ttraining's binary_logloss: 0.256585\tvalid_1's binary_logloss: 0.259059\n",
      "[29]\ttraining's binary_logloss: 0.255491\tvalid_1's binary_logloss: 0.258032\n",
      "[30]\ttraining's binary_logloss: 0.25453\tvalid_1's binary_logloss: 0.257149\n",
      "[31]\ttraining's binary_logloss: 0.253622\tvalid_1's binary_logloss: 0.256315\n",
      "[32]\ttraining's binary_logloss: 0.252839\tvalid_1's binary_logloss: 0.255604\n",
      "[33]\ttraining's binary_logloss: 0.252054\tvalid_1's binary_logloss: 0.254929\n",
      "[34]\ttraining's binary_logloss: 0.251379\tvalid_1's binary_logloss: 0.254336\n",
      "[35]\ttraining's binary_logloss: 0.250788\tvalid_1's binary_logloss: 0.253816\n",
      "[36]\ttraining's binary_logloss: 0.250198\tvalid_1's binary_logloss: 0.253338\n",
      "[37]\ttraining's binary_logloss: 0.24968\tvalid_1's binary_logloss: 0.252901\n",
      "[38]\ttraining's binary_logloss: 0.249238\tvalid_1's binary_logloss: 0.25254\n",
      "[39]\ttraining's binary_logloss: 0.248843\tvalid_1's binary_logloss: 0.25224\n",
      "[40]\ttraining's binary_logloss: 0.248406\tvalid_1's binary_logloss: 0.251855\n",
      "[41]\ttraining's binary_logloss: 0.248055\tvalid_1's binary_logloss: 0.251583\n",
      "[42]\ttraining's binary_logloss: 0.24767\tvalid_1's binary_logloss: 0.25131\n",
      "[43]\ttraining's binary_logloss: 0.247349\tvalid_1's binary_logloss: 0.251119\n",
      "[44]\ttraining's binary_logloss: 0.246974\tvalid_1's binary_logloss: 0.250776\n",
      "[45]\ttraining's binary_logloss: 0.246671\tvalid_1's binary_logloss: 0.250561\n",
      "[46]\ttraining's binary_logloss: 0.246353\tvalid_1's binary_logloss: 0.250363\n",
      "[47]\ttraining's binary_logloss: 0.246082\tvalid_1's binary_logloss: 0.250197\n",
      "[48]\ttraining's binary_logloss: 0.245836\tvalid_1's binary_logloss: 0.25003\n",
      "[49]\ttraining's binary_logloss: 0.245562\tvalid_1's binary_logloss: 0.249801\n",
      "[50]\ttraining's binary_logloss: 0.24532\tvalid_1's binary_logloss: 0.24967\n",
      "[51]\ttraining's binary_logloss: 0.245073\tvalid_1's binary_logloss: 0.249544\n",
      "[52]\ttraining's binary_logloss: 0.244844\tvalid_1's binary_logloss: 0.249385\n",
      "[53]\ttraining's binary_logloss: 0.244659\tvalid_1's binary_logloss: 0.249283\n",
      "[54]\ttraining's binary_logloss: 0.244424\tvalid_1's binary_logloss: 0.249185\n",
      "[55]\ttraining's binary_logloss: 0.244226\tvalid_1's binary_logloss: 0.249115\n",
      "[56]\ttraining's binary_logloss: 0.243983\tvalid_1's binary_logloss: 0.248967\n",
      "[57]\ttraining's binary_logloss: 0.243778\tvalid_1's binary_logloss: 0.248873\n",
      "[58]\ttraining's binary_logloss: 0.243565\tvalid_1's binary_logloss: 0.248741\n",
      "[59]\ttraining's binary_logloss: 0.243362\tvalid_1's binary_logloss: 0.248633\n",
      "[60]\ttraining's binary_logloss: 0.243186\tvalid_1's binary_logloss: 0.248546\n",
      "[61]\ttraining's binary_logloss: 0.243032\tvalid_1's binary_logloss: 0.248492\n",
      "[62]\ttraining's binary_logloss: 0.242866\tvalid_1's binary_logloss: 0.24841\n",
      "[63]\ttraining's binary_logloss: 0.242703\tvalid_1's binary_logloss: 0.248352\n",
      "[64]\ttraining's binary_logloss: 0.242464\tvalid_1's binary_logloss: 0.24814\n",
      "[65]\ttraining's binary_logloss: 0.2423\tvalid_1's binary_logloss: 0.248093\n",
      "[66]\ttraining's binary_logloss: 0.242152\tvalid_1's binary_logloss: 0.24805\n",
      "[67]\ttraining's binary_logloss: 0.241997\tvalid_1's binary_logloss: 0.248011\n",
      "[68]\ttraining's binary_logloss: 0.241848\tvalid_1's binary_logloss: 0.247971\n",
      "[69]\ttraining's binary_logloss: 0.241695\tvalid_1's binary_logloss: 0.247881\n",
      "[70]\ttraining's binary_logloss: 0.241528\tvalid_1's binary_logloss: 0.247834\n",
      "[71]\ttraining's binary_logloss: 0.24138\tvalid_1's binary_logloss: 0.247765\n",
      "[72]\ttraining's binary_logloss: 0.241234\tvalid_1's binary_logloss: 0.247729\n",
      "[73]\ttraining's binary_logloss: 0.241061\tvalid_1's binary_logloss: 0.247631\n",
      "[74]\ttraining's binary_logloss: 0.240937\tvalid_1's binary_logloss: 0.24758\n",
      "[75]\ttraining's binary_logloss: 0.240816\tvalid_1's binary_logloss: 0.247551\n",
      "[76]\ttraining's binary_logloss: 0.240658\tvalid_1's binary_logloss: 0.24752\n",
      "[77]\ttraining's binary_logloss: 0.240537\tvalid_1's binary_logloss: 0.247504\n",
      "[78]\ttraining's binary_logloss: 0.240385\tvalid_1's binary_logloss: 0.247427\n",
      "[79]\ttraining's binary_logloss: 0.240244\tvalid_1's binary_logloss: 0.247399\n",
      "[80]\ttraining's binary_logloss: 0.240097\tvalid_1's binary_logloss: 0.247405\n",
      "[81]\ttraining's binary_logloss: 0.239945\tvalid_1's binary_logloss: 0.247323\n",
      "[82]\ttraining's binary_logloss: 0.239832\tvalid_1's binary_logloss: 0.247321\n",
      "[83]\ttraining's binary_logloss: 0.239706\tvalid_1's binary_logloss: 0.247305\n",
      "[84]\ttraining's binary_logloss: 0.23957\tvalid_1's binary_logloss: 0.247273\n",
      "[85]\ttraining's binary_logloss: 0.239444\tvalid_1's binary_logloss: 0.247228\n",
      "[86]\ttraining's binary_logloss: 0.239311\tvalid_1's binary_logloss: 0.247222\n",
      "[87]\ttraining's binary_logloss: 0.23918\tvalid_1's binary_logloss: 0.247207\n",
      "[88]\ttraining's binary_logloss: 0.239076\tvalid_1's binary_logloss: 0.247214\n",
      "[89]\ttraining's binary_logloss: 0.238958\tvalid_1's binary_logloss: 0.247189\n",
      "[90]\ttraining's binary_logloss: 0.238806\tvalid_1's binary_logloss: 0.247105\n",
      "[91]\ttraining's binary_logloss: 0.238691\tvalid_1's binary_logloss: 0.247077\n",
      "[92]\ttraining's binary_logloss: 0.238578\tvalid_1's binary_logloss: 0.247051\n",
      "[93]\ttraining's binary_logloss: 0.238446\tvalid_1's binary_logloss: 0.247006\n",
      "[94]\ttraining's binary_logloss: 0.238337\tvalid_1's binary_logloss: 0.246979\n",
      "[95]\ttraining's binary_logloss: 0.238225\tvalid_1's binary_logloss: 0.246967\n",
      "[96]\ttraining's binary_logloss: 0.238119\tvalid_1's binary_logloss: 0.246981\n",
      "[97]\ttraining's binary_logloss: 0.237995\tvalid_1's binary_logloss: 0.246937\n",
      "[98]\ttraining's binary_logloss: 0.237871\tvalid_1's binary_logloss: 0.246922\n",
      "[99]\ttraining's binary_logloss: 0.237774\tvalid_1's binary_logloss: 0.246928\n",
      "[100]\ttraining's binary_logloss: 0.237634\tvalid_1's binary_logloss: 0.246924\n",
      "[101]\ttraining's binary_logloss: 0.23748\tvalid_1's binary_logloss: 0.246844\n",
      "[102]\ttraining's binary_logloss: 0.237364\tvalid_1's binary_logloss: 0.246819\n",
      "[103]\ttraining's binary_logloss: 0.237248\tvalid_1's binary_logloss: 0.246833\n",
      "[104]\ttraining's binary_logloss: 0.237165\tvalid_1's binary_logloss: 0.24683\n",
      "[105]\ttraining's binary_logloss: 0.237074\tvalid_1's binary_logloss: 0.246836\n",
      "[106]\ttraining's binary_logloss: 0.236967\tvalid_1's binary_logloss: 0.246822\n",
      "[107]\ttraining's binary_logloss: 0.236856\tvalid_1's binary_logloss: 0.24682\n",
      "[108]\ttraining's binary_logloss: 0.236737\tvalid_1's binary_logloss: 0.246779\n"
     ]
    },
    {
     "name": "stdout",
     "output_type": "stream",
     "text": [
      "[109]\ttraining's binary_logloss: 0.236632\tvalid_1's binary_logloss: 0.246765\n",
      "[110]\ttraining's binary_logloss: 0.236508\tvalid_1's binary_logloss: 0.24675\n",
      "[111]\ttraining's binary_logloss: 0.236393\tvalid_1's binary_logloss: 0.246759\n",
      "[112]\ttraining's binary_logloss: 0.2363\tvalid_1's binary_logloss: 0.246766\n",
      "[113]\ttraining's binary_logloss: 0.236204\tvalid_1's binary_logloss: 0.246767\n",
      "[114]\ttraining's binary_logloss: 0.236122\tvalid_1's binary_logloss: 0.246767\n",
      "[115]\ttraining's binary_logloss: 0.236019\tvalid_1's binary_logloss: 0.246788\n",
      "[116]\ttraining's binary_logloss: 0.235933\tvalid_1's binary_logloss: 0.246797\n",
      "[117]\ttraining's binary_logloss: 0.235819\tvalid_1's binary_logloss: 0.246783\n",
      "[118]\ttraining's binary_logloss: 0.235725\tvalid_1's binary_logloss: 0.246788\n",
      "[119]\ttraining's binary_logloss: 0.235641\tvalid_1's binary_logloss: 0.246811\n",
      "[120]\ttraining's binary_logloss: 0.235539\tvalid_1's binary_logloss: 0.246833\n",
      "[121]\ttraining's binary_logloss: 0.23544\tvalid_1's binary_logloss: 0.246834\n",
      "[122]\ttraining's binary_logloss: 0.235359\tvalid_1's binary_logloss: 0.246802\n",
      "[123]\ttraining's binary_logloss: 0.235255\tvalid_1's binary_logloss: 0.246806\n",
      "[124]\ttraining's binary_logloss: 0.23514\tvalid_1's binary_logloss: 0.246827\n",
      "[125]\ttraining's binary_logloss: 0.235014\tvalid_1's binary_logloss: 0.246761\n",
      "[126]\ttraining's binary_logloss: 0.23488\tvalid_1's binary_logloss: 0.246729\n",
      "[127]\ttraining's binary_logloss: 0.23477\tvalid_1's binary_logloss: 0.246743\n",
      "[128]\ttraining's binary_logloss: 0.234657\tvalid_1's binary_logloss: 0.246745\n",
      "[129]\ttraining's binary_logloss: 0.234555\tvalid_1's binary_logloss: 0.246737\n",
      "[130]\ttraining's binary_logloss: 0.234463\tvalid_1's binary_logloss: 0.24672\n",
      "[131]\ttraining's binary_logloss: 0.234377\tvalid_1's binary_logloss: 0.246707\n",
      "[132]\ttraining's binary_logloss: 0.234276\tvalid_1's binary_logloss: 0.24669\n",
      "[133]\ttraining's binary_logloss: 0.234204\tvalid_1's binary_logloss: 0.246686\n",
      "[134]\ttraining's binary_logloss: 0.234111\tvalid_1's binary_logloss: 0.246713\n",
      "[135]\ttraining's binary_logloss: 0.234039\tvalid_1's binary_logloss: 0.246713\n",
      "[136]\ttraining's binary_logloss: 0.233953\tvalid_1's binary_logloss: 0.246712\n",
      "[137]\ttraining's binary_logloss: 0.233832\tvalid_1's binary_logloss: 0.246727\n",
      "[138]\ttraining's binary_logloss: 0.233738\tvalid_1's binary_logloss: 0.24671\n",
      "[139]\ttraining's binary_logloss: 0.233646\tvalid_1's binary_logloss: 0.246703\n",
      "[140]\ttraining's binary_logloss: 0.233527\tvalid_1's binary_logloss: 0.246716\n",
      "[141]\ttraining's binary_logloss: 0.233416\tvalid_1's binary_logloss: 0.246726\n",
      "[142]\ttraining's binary_logloss: 0.233328\tvalid_1's binary_logloss: 0.246722\n",
      "[143]\ttraining's binary_logloss: 0.233243\tvalid_1's binary_logloss: 0.24673\n",
      "[144]\ttraining's binary_logloss: 0.233128\tvalid_1's binary_logloss: 0.246742\n",
      "[145]\ttraining's binary_logloss: 0.233038\tvalid_1's binary_logloss: 0.246747\n",
      "[146]\ttraining's binary_logloss: 0.232957\tvalid_1's binary_logloss: 0.246746\n",
      "[147]\ttraining's binary_logloss: 0.232868\tvalid_1's binary_logloss: 0.246748\n",
      "[148]\ttraining's binary_logloss: 0.232796\tvalid_1's binary_logloss: 0.246748\n",
      "[149]\ttraining's binary_logloss: 0.232694\tvalid_1's binary_logloss: 0.246745\n",
      "[150]\ttraining's binary_logloss: 0.232611\tvalid_1's binary_logloss: 0.246757\n",
      "[151]\ttraining's binary_logloss: 0.232517\tvalid_1's binary_logloss: 0.246778\n",
      "[152]\ttraining's binary_logloss: 0.232402\tvalid_1's binary_logloss: 0.246725\n",
      "[153]\ttraining's binary_logloss: 0.232299\tvalid_1's binary_logloss: 0.246719\n",
      "[154]\ttraining's binary_logloss: 0.232211\tvalid_1's binary_logloss: 0.24671\n",
      "[155]\ttraining's binary_logloss: 0.232091\tvalid_1's binary_logloss: 0.246685\n",
      "[156]\ttraining's binary_logloss: 0.232002\tvalid_1's binary_logloss: 0.246703\n",
      "[157]\ttraining's binary_logloss: 0.231916\tvalid_1's binary_logloss: 0.246697\n",
      "[158]\ttraining's binary_logloss: 0.231823\tvalid_1's binary_logloss: 0.246701\n",
      "[159]\ttraining's binary_logloss: 0.231732\tvalid_1's binary_logloss: 0.246697\n",
      "[160]\ttraining's binary_logloss: 0.23165\tvalid_1's binary_logloss: 0.246688\n",
      "[161]\ttraining's binary_logloss: 0.23156\tvalid_1's binary_logloss: 0.246698\n",
      "[162]\ttraining's binary_logloss: 0.231456\tvalid_1's binary_logloss: 0.246684\n",
      "[163]\ttraining's binary_logloss: 0.231355\tvalid_1's binary_logloss: 0.246659\n",
      "[164]\ttraining's binary_logloss: 0.231252\tvalid_1's binary_logloss: 0.246656\n",
      "[165]\ttraining's binary_logloss: 0.231218\tvalid_1's binary_logloss: 0.246662\n",
      "[166]\ttraining's binary_logloss: 0.231139\tvalid_1's binary_logloss: 0.246666\n",
      "[167]\ttraining's binary_logloss: 0.231067\tvalid_1's binary_logloss: 0.246667\n",
      "[168]\ttraining's binary_logloss: 0.230955\tvalid_1's binary_logloss: 0.246652\n",
      "[169]\ttraining's binary_logloss: 0.230879\tvalid_1's binary_logloss: 0.246643\n",
      "[170]\ttraining's binary_logloss: 0.23081\tvalid_1's binary_logloss: 0.246655\n",
      "[171]\ttraining's binary_logloss: 0.230723\tvalid_1's binary_logloss: 0.246647\n",
      "[172]\ttraining's binary_logloss: 0.23065\tvalid_1's binary_logloss: 0.246655\n",
      "[173]\ttraining's binary_logloss: 0.230568\tvalid_1's binary_logloss: 0.246649\n",
      "[174]\ttraining's binary_logloss: 0.23046\tvalid_1's binary_logloss: 0.246672\n",
      "[175]\ttraining's binary_logloss: 0.230368\tvalid_1's binary_logloss: 0.246678\n",
      "[176]\ttraining's binary_logloss: 0.230277\tvalid_1's binary_logloss: 0.246697\n",
      "[177]\ttraining's binary_logloss: 0.230164\tvalid_1's binary_logloss: 0.246689\n",
      "[178]\ttraining's binary_logloss: 0.230071\tvalid_1's binary_logloss: 0.246702\n",
      "[179]\ttraining's binary_logloss: 0.22998\tvalid_1's binary_logloss: 0.246693\n",
      "[180]\ttraining's binary_logloss: 0.229896\tvalid_1's binary_logloss: 0.246676\n",
      "[181]\ttraining's binary_logloss: 0.229819\tvalid_1's binary_logloss: 0.246682\n",
      "[182]\ttraining's binary_logloss: 0.229744\tvalid_1's binary_logloss: 0.246685\n",
      "[183]\ttraining's binary_logloss: 0.229661\tvalid_1's binary_logloss: 0.246692\n",
      "[184]\ttraining's binary_logloss: 0.229541\tvalid_1's binary_logloss: 0.246705\n",
      "[185]\ttraining's binary_logloss: 0.229436\tvalid_1's binary_logloss: 0.246725\n",
      "[186]\ttraining's binary_logloss: 0.229365\tvalid_1's binary_logloss: 0.246728\n",
      "[187]\ttraining's binary_logloss: 0.229269\tvalid_1's binary_logloss: 0.246745\n",
      "[188]\ttraining's binary_logloss: 0.229162\tvalid_1's binary_logloss: 0.246764\n",
      "[189]\ttraining's binary_logloss: 0.22908\tvalid_1's binary_logloss: 0.246792\n",
      "[190]\ttraining's binary_logloss: 0.228998\tvalid_1's binary_logloss: 0.246791\n",
      "[191]\ttraining's binary_logloss: 0.228915\tvalid_1's binary_logloss: 0.246804\n",
      "[192]\ttraining's binary_logloss: 0.228823\tvalid_1's binary_logloss: 0.246811\n",
      "[193]\ttraining's binary_logloss: 0.228744\tvalid_1's binary_logloss: 0.246809\n",
      "[194]\ttraining's binary_logloss: 0.22864\tvalid_1's binary_logloss: 0.246803\n",
      "[195]\ttraining's binary_logloss: 0.228545\tvalid_1's binary_logloss: 0.246796\n",
      "[196]\ttraining's binary_logloss: 0.228487\tvalid_1's binary_logloss: 0.246801\n",
      "[197]\ttraining's binary_logloss: 0.22841\tvalid_1's binary_logloss: 0.246794\n",
      "[198]\ttraining's binary_logloss: 0.228335\tvalid_1's binary_logloss: 0.246805\n",
      "[199]\ttraining's binary_logloss: 0.228247\tvalid_1's binary_logloss: 0.246818\n",
      "[200]\ttraining's binary_logloss: 0.22815\tvalid_1's binary_logloss: 0.246814\n",
      "[201]\ttraining's binary_logloss: 0.22808\tvalid_1's binary_logloss: 0.24681\n",
      "[202]\ttraining's binary_logloss: 0.22801\tvalid_1's binary_logloss: 0.246816\n",
      "[203]\ttraining's binary_logloss: 0.227928\tvalid_1's binary_logloss: 0.246822\n",
      "[204]\ttraining's binary_logloss: 0.227868\tvalid_1's binary_logloss: 0.246819\n",
      "[205]\ttraining's binary_logloss: 0.227801\tvalid_1's binary_logloss: 0.24684\n",
      "[206]\ttraining's binary_logloss: 0.227751\tvalid_1's binary_logloss: 0.246833\n",
      "[207]\ttraining's binary_logloss: 0.227661\tvalid_1's binary_logloss: 0.246839\n",
      "[208]\ttraining's binary_logloss: 0.227552\tvalid_1's binary_logloss: 0.246841\n",
      "[209]\ttraining's binary_logloss: 0.227487\tvalid_1's binary_logloss: 0.246872\n",
      "[210]\ttraining's binary_logloss: 0.227382\tvalid_1's binary_logloss: 0.246868\n",
      "[211]\ttraining's binary_logloss: 0.22731\tvalid_1's binary_logloss: 0.246872\n",
      "[212]\ttraining's binary_logloss: 0.22725\tvalid_1's binary_logloss: 0.246884\n",
      "[213]\ttraining's binary_logloss: 0.227155\tvalid_1's binary_logloss: 0.246902\n",
      "[214]\ttraining's binary_logloss: 0.227095\tvalid_1's binary_logloss: 0.246902\n",
      "[215]\ttraining's binary_logloss: 0.226994\tvalid_1's binary_logloss: 0.246916\n"
     ]
    },
    {
     "name": "stdout",
     "output_type": "stream",
     "text": [
      "[216]\ttraining's binary_logloss: 0.226909\tvalid_1's binary_logloss: 0.246932\n",
      "[217]\ttraining's binary_logloss: 0.226828\tvalid_1's binary_logloss: 0.246919\n",
      "[218]\ttraining's binary_logloss: 0.226711\tvalid_1's binary_logloss: 0.246903\n",
      "[219]\ttraining's binary_logloss: 0.226616\tvalid_1's binary_logloss: 0.246905\n",
      "Early stopping, best iteration is:\n",
      "[169]\ttraining's binary_logloss: 0.230879\tvalid_1's binary_logloss: 0.246643\n"
     ]
    }
   ],
   "source": [
    "learner.fit(params, early_stopping_rounds=50)"
   ]
  },
  {
   "cell_type": "markdown",
   "metadata": {},
   "source": [
    "# keep feature"
   ]
  },
  {
   "cell_type": "code",
   "execution_count": 8,
   "metadata": {},
   "outputs": [],
   "source": [
    "keep_ft = flat_list([['EXT_SOURCE_3'],\n",
    " ['EXT_SOURCE_2'],\n",
    " ['AMT_GOODS_PRICE', 'AMT_CREDIT', 'AMT_ANNUITY'],\n",
    " ['EXT_SOURCE_1'],\n",
    " ['DAYS_BIRTH'],\n",
    " ['DAYS_EMPLOYED'],\n",
    " ['CODE_GENDER_M'],\n",
    " ['NAME_EDUCATION_TYPE_Higher education'],\n",
    " ['EXT_SOURCE_1_na'],\n",
    " ['DAYS_ID_PUBLISH'],\n",
    " ['NAME_FAMILY_STATUS_Married'],\n",
    " ['FLAG_OWN_CAR_N', 'OWN_CAR_AGE'],\n",
    " ['CODE_GENDER_F'],\n",
    " ['NAME_CONTRACT_TYPE_Cash loans'],\n",
    " ['DEF_30_CNT_SOCIAL_CIRCLE', 'DEF_60_CNT_SOCIAL_CIRCLE'],\n",
    " ['AMT_REQ_CREDIT_BUREAU_HOUR_na',\n",
    "  'AMT_REQ_CREDIT_BUREAU_DAY_na',\n",
    "  'AMT_REQ_CREDIT_BUREAU_WEEK_na',\n",
    "  'AMT_REQ_CREDIT_BUREAU_MON_na',\n",
    "  'AMT_REQ_CREDIT_BUREAU_QRT_na',\n",
    "  'AMT_REQ_CREDIT_BUREAU_YEAR_na'],\n",
    " ['AMT_REQ_CREDIT_BUREAU_QRT'],\n",
    " ['FLAG_DOCUMENT_3'],\n",
    " ['AMT_INCOME_TOTAL'],\n",
    " ['REGION_POPULATION_RELATIVE'],\n",
    " ['NAME_INCOME_TYPE_Working'],\n",
    " ['NONLIVINGAPARTMENTS_MODE',\n",
    "  'NONLIVINGAPARTMENTS_AVG',\n",
    "  'NONLIVINGAPARTMENTS_MEDI'],\n",
    " ['FLAG_WORK_PHONE'],\n",
    " ['AMT_REQ_CREDIT_BUREAU_YEAR'],\n",
    " ['REGION_RATING_CLIENT', 'REGION_RATING_CLIENT_W_CITY'],\n",
    " ['LIVINGAPARTMENTS_MODE', 'LIVINGAPARTMENTS_AVG', 'LIVINGAPARTMENTS_MEDI'],\n",
    " ['FLOORSMIN_AVG', 'FLOORSMIN_MEDI', 'FLOORSMIN_MODE']])"
   ]
  },
  {
   "cell_type": "code",
   "execution_count": 9,
   "metadata": {},
   "outputs": [],
   "source": [
    "dataset.filter_column(keep_ft)"
   ]
  },
  {
   "cell_type": "code",
   "execution_count": null,
   "metadata": {},
   "outputs": [],
   "source": []
  }
 ],
 "metadata": {
  "kernelspec": {
   "display_name": "Python 3",
   "language": "python",
   "name": "python3"
  },
  "language_info": {
   "codemirror_mode": {
    "name": "ipython",
    "version": 3
   },
   "file_extension": ".py",
   "mimetype": "text/x-python",
   "name": "python",
   "nbconvert_exporter": "python",
   "pygments_lexer": "ipython3",
   "version": "3.6.4"
  },
  "toc": {
   "nav_menu": {},
   "number_sections": true,
   "sideBar": true,
   "skip_h1_title": false,
   "toc_cell": false,
   "toc_position": {},
   "toc_section_display": "block",
   "toc_window_display": false
  },
  "varInspector": {
   "cols": {
    "lenName": 16,
    "lenType": 16,
    "lenVar": 40
   },
   "kernels_config": {
    "python": {
     "delete_cmd_postfix": "",
     "delete_cmd_prefix": "del ",
     "library": "var_list.py",
     "varRefreshCmd": "print(var_dic_list())"
    },
    "r": {
     "delete_cmd_postfix": ") ",
     "delete_cmd_prefix": "rm(",
     "library": "var_list.r",
     "varRefreshCmd": "cat(var_dic_list()) "
    }
   },
   "position": {
    "height": "653px",
    "left": "1185.67px",
    "right": "62px",
    "top": "123px",
    "width": "299px"
   },
   "types_to_exclude": [
    "module",
    "function",
    "builtin_function_or_method",
    "instance",
    "_Feature"
   ],
   "window_display": false
  }
 },
 "nbformat": 4,
 "nbformat_minor": 2
}
