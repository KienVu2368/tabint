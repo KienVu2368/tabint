{
 "cells": [
  {
   "cell_type": "code",
   "execution_count": null,
   "metadata": {},
   "outputs": [],
   "source": [
    "#hide\n",
    "import sys\n",
    "path = '/home/ddpham/git/tabint'\n",
    "sys.path.insert(1, path)"
   ]
  },
  {
   "cell_type": "code",
   "execution_count": null,
   "metadata": {},
   "outputs": [],
   "source": [
    "#default_exp feature"
   ]
  },
  {
   "cell_type": "code",
   "execution_count": null,
   "metadata": {},
   "outputs": [],
   "source": [
    "#export\n",
    "from tabint.utils import *\n",
    "from tabint.visual import *\n",
    "from tabint.learner import *\n",
    "import pandas as pd\n",
    "import numpy as np\n",
    "import matplotlib.pyplot as plt\n",
    "import scipy\n",
    "from scipy.cluster import hierarchy as hc\n",
    "from sklearn.metrics import roc_auc_score"
   ]
  },
  {
   "cell_type": "code",
   "execution_count": null,
   "metadata": {},
   "outputs": [],
   "source": [
    "#export\n",
    "class Dendogram:\n",
    "    \"\"\"\n",
    "    plot cluster of feature, to see high correlate feature\n",
    "    \"\"\"\n",
    "    def __init__(self, z, data, features):\n",
    "        self.z = z\n",
    "        self.data = ResultDF(data, 'distance')\n",
    "        self.features = features\n",
    "    \n",
    "    def chk_ft(self, n):\n",
    "        features = self.ddg_df[:n][['feature 1', 'feature 2']].values.tolist()\n",
    "        return flat_list(features)\n",
    "    \n",
    "    @classmethod\n",
    "    def from_ds(cls, ds, method = 'average'): return cls.from_df(ds.x_val, method)\n",
    "\n",
    "    @classmethod\n",
    "    def from_df(cls, df, method = 'average'):\n",
    "        features = df.columns\n",
    "        values = df.values\n",
    "        return cls.from_series(features, values, method = method)\n",
    "\n",
    "    @classmethod\n",
    "    def from_series(cls, features, values, method = 'average'):\n",
    "        if values.shape[0] == len(features): values = values.T; print('values array is tranposed')\n",
    "        z = cls.cal_z(values, method = method)        \n",
    "        data = cls.cal_result(z = z , features = features)\n",
    "        return cls(z, data, features)\n",
    "    \n",
    "    @staticmethod\n",
    "    def cal_z(values, method = 'average'):\n",
    "        corr = np.round(scipy.stats.spearmanr(values).correlation, 4)\n",
    "        corr = np.where(np.isnan(corr), np.random.rand()*1e-3, corr)\n",
    "        corr_condensed = hc.distance.squareform(1-corr, checks=False)\n",
    "        return hc.linkage(corr_condensed, method = method)\n",
    "    \n",
    "    @staticmethod\n",
    "    def get_name(features, i): return '---' if int(i) >= len(features) else features[int(i)]\n",
    "    \n",
    "    @classmethod\n",
    "    def cal_result(cls, z, features):\n",
    "        data = pd.DataFrame.from_dict({'feature 1': [cls.get_name(features, i[0]) for i in z],\n",
    "                                       'feature 2': [cls.get_name(features, i[1]) for i in z],\n",
    "                                       'distance':  [i[2] for i in z]})\n",
    "        return data\n",
    "    \n",
    "    def plot(self):\n",
    "        plt.figure(figsize=(10,max(self.z.shape[0]//2.6, 5)))\n",
    "        hc.dendrogram(self.z, \n",
    "                      labels=self.features, \n",
    "                      orientation='left', \n",
    "                      leaf_font_size=16)"
   ]
  },
  {
   "cell_type": "code",
   "execution_count": null,
   "metadata": {},
   "outputs": [],
   "source": [
    "#export\n",
    "\n",
    "class Importance:\n",
    "    \"\"\"\n",
    "    permutation importance. See more at http://explained.ai/rf-importance/index.html\n",
    "    \"\"\"\n",
    "    def __init__(self, data):\n",
    "        self.data = ResultDF(data, 'importance')\n",
    "    \n",
    "    @classmethod\n",
    "    def from_Learner(cls, learner, ds,  group_fts = None, score = roc_auc_score):\n",
    "        #to do in parrallel??\n",
    "        group_fts = group_fts + [i for i in ds.features if i not in flat_list(group_fts)] if group_fts is not None else ds.features\n",
    "        y_pred = learner.predict(ds.x_val)\n",
    "        baseline = score(ds.y_val, y_pred)\n",
    "        data = pd.DataFrame.from_dict({'feature': [' & '.join(to_iter(fts)) for fts in group_fts]})\n",
    "        data['importance'] = data.apply(cls.cal_impt, axis = 1, learner = learner, ds = ds, baseline = baseline, score = score)\n",
    "        return cls(data)\n",
    "\n",
    "    @staticmethod\n",
    "    def cal_impt(x, learner, ds, baseline, score):\n",
    "        fts = x[0].split(' & ')\n",
    "        y_pred_permut = learner.predict(ds.val_permutation(fts))\n",
    "        permut_score = score(ds.y_val, y_pred_permut)\n",
    "        return baseline - permut_score\n",
    "\n",
    "    def top_features(self, n): return flat_list([col.split(' & ') for col in self.data.top().feature[:n]])\n",
    "\n",
    "    def plot(self, **kagrs): plot_barh_from_df(self.data(), **kagrs)\n",
    "\n",
    "\n",
    "def aggreate(df, params, by_col, prefix = 'AGG'):\n",
    "    '''\n",
    "    mean, median, prod, sum, std, var, max, min, count, nunique, size, nanmedian\n",
    "    skew, kurt, iqr\n",
    "    '''\n",
    "    df_agg = df.groupby(by_col).agg(params)\n",
    "    df_agg.columns = ['_'.join([prefix.upper(), c[0], c[1].upper()]) for c in df_agg.columns.tolist()]\n",
    "    return df_agg.reset_index()"
   ]
  },
  {
   "cell_type": "code",
   "execution_count": null,
   "metadata": {},
   "outputs": [
    {
     "name": "stdout",
     "output_type": "stream",
     "text": [
      "Converted 06_feature.ipynb.\n"
     ]
    }
   ],
   "source": [
    "from nbdev.export import *\n",
    "notebook2script('06_feature.ipynb')"
   ]
  },
  {
   "cell_type": "code",
   "execution_count": null,
   "metadata": {},
   "outputs": [],
   "source": []
  }
 ],
 "metadata": {
  "kernelspec": {
   "display_name": "Python 3",
   "language": "python",
   "name": "python3"
  }
 },
 "nbformat": 4,
 "nbformat_minor": 4
}
