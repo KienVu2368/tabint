{
 "cells": [
  {
   "cell_type": "code",
   "execution_count": null,
   "metadata": {},
   "outputs": [],
   "source": [
    "#hide\n",
    "import sys\n",
    "path = '/home/ddpham/git/tabint/'\n",
    "sys.path.insert(1, path)"
   ]
  },
  {
   "cell_type": "code",
   "execution_count": null,
   "metadata": {},
   "outputs": [],
   "source": [
    "#default_exp learner"
   ]
  },
  {
   "cell_type": "code",
   "execution_count": null,
   "metadata": {},
   "outputs": [
    {
     "ename": "AttributeError",
     "evalue": "partially initialized module 'tabint.visual' has no attribute 'change_xaxis_pos' (most likely due to a circular import)",
     "output_type": "error",
     "traceback": [
      "\u001b[0;31m---------------------------------------------------------------------------\u001b[0m",
      "\u001b[0;31mAttributeError\u001b[0m                            Traceback (most recent call last)",
      "\u001b[0;32m<ipython-input-15-37645914398d>\u001b[0m in \u001b[0;36m<module>\u001b[0;34m\u001b[0m\n\u001b[1;32m      2\u001b[0m \u001b[0;32mimport\u001b[0m \u001b[0mpandas\u001b[0m \u001b[0;32mas\u001b[0m \u001b[0mpd\u001b[0m\u001b[0;34m\u001b[0m\u001b[0;34m\u001b[0m\u001b[0m\n\u001b[1;32m      3\u001b[0m \u001b[0;32mimport\u001b[0m \u001b[0mnumpy\u001b[0m \u001b[0;32mas\u001b[0m \u001b[0mnp\u001b[0m\u001b[0;34m\u001b[0m\u001b[0;34m\u001b[0m\u001b[0m\n\u001b[0;32m----> 4\u001b[0;31m \u001b[0;32mfrom\u001b[0m \u001b[0mtabint\u001b[0m\u001b[0;34m.\u001b[0m\u001b[0mvisual\u001b[0m \u001b[0;32mimport\u001b[0m \u001b[0;34m*\u001b[0m\u001b[0;34m\u001b[0m\u001b[0;34m\u001b[0m\u001b[0m\n\u001b[0m\u001b[1;32m      5\u001b[0m \u001b[0;32mfrom\u001b[0m \u001b[0mtabint\u001b[0m\u001b[0;34m.\u001b[0m\u001b[0mutils\u001b[0m \u001b[0;32mimport\u001b[0m \u001b[0;34m*\u001b[0m\u001b[0;34m\u001b[0m\u001b[0;34m\u001b[0m\u001b[0m\n\u001b[1;32m      6\u001b[0m \u001b[0;32mimport\u001b[0m \u001b[0mlightgbm\u001b[0m \u001b[0;32mas\u001b[0m \u001b[0mlgb\u001b[0m\u001b[0;34m\u001b[0m\u001b[0;34m\u001b[0m\u001b[0m\n",
      "\u001b[0;32m~/git/tabint/tabint/visual.py\u001b[0m in \u001b[0;36m<module>\u001b[0;34m\u001b[0m\n\u001b[1;32m     13\u001b[0m \u001b[0;32mfrom\u001b[0m \u001b[0;34m.\u001b[0m\u001b[0mpre_processing\u001b[0m \u001b[0;32mimport\u001b[0m \u001b[0;34m*\u001b[0m\u001b[0;34m\u001b[0m\u001b[0;34m\u001b[0m\u001b[0m\n\u001b[1;32m     14\u001b[0m \u001b[0;32mfrom\u001b[0m \u001b[0;34m.\u001b[0m\u001b[0mdataset\u001b[0m \u001b[0;32mimport\u001b[0m \u001b[0;34m*\u001b[0m\u001b[0;34m\u001b[0m\u001b[0;34m\u001b[0m\u001b[0m\n\u001b[0;32m---> 15\u001b[0;31m \u001b[0;32mfrom\u001b[0m \u001b[0;34m.\u001b[0m\u001b[0mlearner\u001b[0m \u001b[0;32mimport\u001b[0m \u001b[0;34m*\u001b[0m\u001b[0;34m\u001b[0m\u001b[0;34m\u001b[0m\u001b[0m\n\u001b[0m\u001b[1;32m     16\u001b[0m \u001b[0;32mimport\u001b[0m \u001b[0mmatplotlib\u001b[0m\u001b[0;34m.\u001b[0m\u001b[0mpyplot\u001b[0m \u001b[0;32mas\u001b[0m \u001b[0mplt\u001b[0m\u001b[0;34m\u001b[0m\u001b[0;34m\u001b[0m\u001b[0m\n\u001b[1;32m     17\u001b[0m \u001b[0;32mimport\u001b[0m \u001b[0mseaborn\u001b[0m \u001b[0;32mas\u001b[0m \u001b[0msns\u001b[0m\u001b[0;34m\u001b[0m\u001b[0;34m\u001b[0m\u001b[0m\n",
      "\u001b[0;32m~/git/tabint/tabint/learner.py\u001b[0m in \u001b[0;36m<module>\u001b[0;34m\u001b[0m\n\u001b[1;32m      6\u001b[0m \u001b[0;32mimport\u001b[0m \u001b[0mpandas\u001b[0m \u001b[0;32mas\u001b[0m \u001b[0mpd\u001b[0m\u001b[0;34m\u001b[0m\u001b[0;34m\u001b[0m\u001b[0m\n\u001b[1;32m      7\u001b[0m \u001b[0;32mimport\u001b[0m \u001b[0mnumpy\u001b[0m \u001b[0;32mas\u001b[0m \u001b[0mnp\u001b[0m\u001b[0;34m\u001b[0m\u001b[0;34m\u001b[0m\u001b[0m\n\u001b[0;32m----> 8\u001b[0;31m \u001b[0;32mfrom\u001b[0m \u001b[0;34m.\u001b[0m\u001b[0mvisual\u001b[0m \u001b[0;32mimport\u001b[0m \u001b[0;34m*\u001b[0m\u001b[0;34m\u001b[0m\u001b[0;34m\u001b[0m\u001b[0m\n\u001b[0m\u001b[1;32m      9\u001b[0m \u001b[0;32mfrom\u001b[0m \u001b[0;34m.\u001b[0m\u001b[0mutils\u001b[0m \u001b[0;32mimport\u001b[0m \u001b[0;34m*\u001b[0m\u001b[0;34m\u001b[0m\u001b[0;34m\u001b[0m\u001b[0m\n\u001b[1;32m     10\u001b[0m \u001b[0;32mimport\u001b[0m \u001b[0mlightgbm\u001b[0m \u001b[0;32mas\u001b[0m \u001b[0mlgb\u001b[0m\u001b[0;34m\u001b[0m\u001b[0;34m\u001b[0m\u001b[0m\n",
      "\u001b[0;31mAttributeError\u001b[0m: partially initialized module 'tabint.visual' has no attribute 'change_xaxis_pos' (most likely due to a circular import)"
     ]
    }
   ],
   "source": [
    "#export\n",
    "import pandas as pd\n",
    "import numpy as np\n",
    "from tabint.visual import *\n",
    "from tabint.utils import *\n",
    "import lightgbm as lgb\n",
    "import pickle\n",
    "from sklearn import tree\n",
    "# from sklearn.externals import joblib\n",
    "from sklearn.ensemble import *\n",
    "from sklearn import metrics\n",
    "from sklearn.metrics import *"
   ]
  },
  {
   "cell_type": "code",
   "execution_count": null,
   "metadata": {},
   "outputs": [],
   "source": [
    "#export\n",
    "class BaseLeaner:\n",
    "    def __init__(self, md):\n",
    "        self.md = md\n",
    "\n",
    "    def fit_from_ds(self, ds, save = False, fn = 'model', **kargs): self.fit(*ds.trn, *ds.val, save = save, fn = fn, **kargs)\n",
    "\n",
    "    def fit(self, x_trn, y_trn, x_val, y_val, save = False, fn = 'SKTree', **kargs): self.md.fit(x_trn, y_trn, **kargs)\n",
    "\n",
    "    def predict(self, df, **kargs): return self.md.predict(df, **kargs)\n",
    "\n",
    "    def predict_from_original(self, df, tfms, **kargs): self.predict(tfms.transform(df), **kargs)\n",
    "\n",
    "    def predict_proba(self, df, **kargs): return self.md.predict_proba(df, **kargs)\n",
    "\n",
    "    def predict_proba_from_original(self, df, tfms, **kargs): self.predict_proba(tfms.transform(df), **kargs)\n",
    "\n",
    "    def predict_log_proba(self, df, **kargs): return self.md.predict_log_proba(df, **kargs)\n",
    "\n",
    "    def predict_log_proba_from_original(self, df, tfms, **kargs): self.predict_log_proba(tfms.transform(df), **kargs)\n",
    "\n",
    "    def load(self, fn): pass\n",
    "        \n",
    "    def save(self, fn): pass"
   ]
  },
  {
   "cell_type": "code",
   "execution_count": null,
   "metadata": {},
   "outputs": [],
   "source": [
    "#export\n",
    "class SKLearner(BaseLeaner):        \n",
    "    def fit(self, x_trn, y_trn, x_val, y_val, save = False, fn = 'SKTree', **kargs):\n",
    "        self.md.fit(x_trn, y_trn, **kargs)        \n",
    "        print('trn score: ', self.md.score(x_trn, y_trn))\n",
    "        print('val score: ', self.md.score(x_val, y_val))\n",
    "        if save: self.save(fn)\n",
    "\n",
    "    def load(self, fn): self.md = joblib.load(fn + '.joblib')\n",
    "        \n",
    "    def save(self, fn): joblib.dump(self.md, fn + '.joblib')"
   ]
  },
  {
   "cell_type": "code",
   "execution_count": null,
   "metadata": {},
   "outputs": [],
   "source": [
    "#export\n",
    "class LGBLearner(BaseLeaner):\n",
    "    \"\"\"\n",
    "    Contain model and its method: learning rate, callbacks, loss function...\n",
    "    \"\"\"\n",
    "    def __init__(self):\n",
    "        self.score = []\n",
    "        \n",
    "    def fit(self, x_trn, y_trn, x_val, y_val, save=False, fn = 'LGB_Model',\n",
    "            params = {}, lrts = None, callbacks = None, fobj=None, feval=None,\n",
    "            ctn=False, early_stopping_rounds=100, verbose_eval = 100, **kargs):\n",
    "        if ctn: self.load(fn)\n",
    "        else:   self.md = None\n",
    "\n",
    "        lgb_trn, lgb_val = self.LGBDataset(x_trn, y_trn, x_val, y_val)\n",
    "        self.md = lgb.train(params = params,\n",
    "                            train_set = lgb_trn,\n",
    "                            valid_sets = [lgb_trn, lgb_val],\n",
    "                            init_model = self.md,\n",
    "                            learning_rates = lrts,\n",
    "                            callbacks = callbacks,\n",
    "                            fobj = fobj,\n",
    "                            feval = feval,\n",
    "                            early_stopping_rounds = early_stopping_rounds,\n",
    "                            verbose_eval = verbose_eval, **kargs)\n",
    "\n",
    "        self.score.append(self.md.best_score)\n",
    "        if save: self.save(fn)\n",
    "\n",
    "    @staticmethod\n",
    "    def LGBDataset(x_trn, y_trn, x_val, y_val):\n",
    "        lgb_trn = lgb.Dataset(x_trn, y_trn)\n",
    "        lgb_val = lgb.Dataset(x_val, y_val, reference=lgb_trn)\n",
    "        return lgb_trn, lgb_val\n",
    "\n",
    "    def predict(self, df, **kargs): return self.md.predict(df, num_iteration = self.md.best_iteration, **kargs)\n",
    "    \n",
    "    def load(self, fn):\n",
    "        with open(fn + '.pkl', 'rb') as fin: self.md = pickle.load(fin)\n",
    "        \n",
    "    def save(self, fn):\n",
    "        with open(fn + '.pkl', 'wb') as fout: pickle.dump(self.md, fout)"
   ]
  },
  {
   "cell_type": "code",
   "execution_count": null,
   "metadata": {},
   "outputs": [],
   "source": [
    "#export\n",
    "class XGBLearner(SKLearner):\n",
    "    def __init__(self):\n",
    "        None\n"
   ]
  },
  {
   "cell_type": "code",
   "execution_count": null,
   "metadata": {},
   "outputs": [
    {
     "name": "stdout",
     "output_type": "stream",
     "text": [
      "Converted 08_learner.ipynb.\n"
     ]
    }
   ],
   "source": [
    "from nbdev.export import *\n",
    "notebook2script('08_learner.ipynb')"
   ]
  },
  {
   "cell_type": "code",
   "execution_count": null,
   "metadata": {},
   "outputs": [],
   "source": []
  }
 ],
 "metadata": {
  "kernelspec": {
   "display_name": "Python 3",
   "language": "python",
   "name": "python3"
  }
 },
 "nbformat": 4,
 "nbformat_minor": 4
}
