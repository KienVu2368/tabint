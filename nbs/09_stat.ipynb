{
 "cells": [
  {
   "cell_type": "code",
   "execution_count": null,
   "metadata": {},
   "outputs": [],
   "source": [
    "#hide\n",
    "import sys\n",
    "path = '/home/ddpham/git/tabint'\n",
    "sys.path.insert(1, path)"
   ]
  },
  {
   "cell_type": "code",
   "execution_count": null,
   "metadata": {},
   "outputs": [],
   "source": [
    "#default_exp stat"
   ]
  },
  {
   "cell_type": "code",
   "execution_count": null,
   "metadata": {},
   "outputs": [],
   "source": [
    "#export\n",
    "import random\n",
    "import numpy as np\n",
    "import matplotlib.pyplot as plt\n",
    "import seaborn as sns\n",
    "import tabint\n",
    "from tabint.utils import *"
   ]
  },
  {
   "cell_type": "code",
   "execution_count": null,
   "metadata": {},
   "outputs": [],
   "source": [
    "#export\n",
    "class Permutation_test:\n",
    "    def __init__(self, x, y, func = np.mean, num_samples = 10000):\n",
    "        self.x, self.y = list_to_np_array(x), list_to_np_array(y)\n",
    "        self.nx, self.ny = len(x), len(y)\n",
    "        self.xy = np.hstack([x,y])\n",
    "        self.func = func\n",
    "        self.num_samples = num_samples\n",
    "        self.ground_truth = self.compute_difference(False)\n",
    "        self.permutation_result = self.run_permutation()\n",
    "        self.p_value_calculation()\n",
    "    \n",
    "    def random_shuffle(self, random_shuffle = True):\n",
    "        if random_shuffle: np.random.shuffle(self.xy)\n",
    "        return self.xy[:self.nx], self.xy[-self.ny:]\n",
    "        \n",
    "    def compute_difference(self, random_shuffle = True):\n",
    "        x_p, y_p = self.random_shuffle(random_shuffle = random_shuffle)\n",
    "        return self.func(x_p) - self.func(y_p)\n",
    "    \n",
    "    def run_permutation(self): \n",
    "        ground_truth = []\n",
    "        for i in range(self.num_samples): ground_truth.append(self.compute_difference())\n",
    "        return list_to_np_array(ground_truth)\n",
    "    \n",
    "    def p_value_calculation(self):\n",
    "        self.p_value_one_side = (len(np.where(self.permutation_result <= self.ground_truth)[0]) if self.ground_truth < 0 else len(np.where(self.permutation_result >= self.ground_truth)[0]))/self.num_samples\n",
    "        self.p_value_two_sides = len(np.where(np.abs(self.permutation_result) >= np.abs(self.ground_truth))[0])/self.num_samples\n",
    "            \n",
    "    def distribution_plot(self):\n",
    "        #pdb.set_trace()\n",
    "        permutation_result_pos = self.permutation_result[self.permutation_result >= 0]\n",
    "        permutation_result_neg = np.abs(self.permutation_result[self.permutation_result < 0])\n",
    "        \n",
    "        print(\"Ground truth:\", '%.2f' % self.ground_truth, '\\n')\n",
    "        print(\"P-value one sided:\", self.p_value_one_side, '\\n')\n",
    "        print(\"P-value two sided:\", self.p_value_two_sides)\n",
    "\n",
    "        sns.distplot(permutation_result_pos, hist = False, kde_kws={\"shade\": True}, label = \"pos\")\n",
    "        sns.distplot(permutation_result_neg, hist = False, kde_kws={\"shade\": True}, label = \"neg\")\n",
    "        plt.axvline(np.abs(self.ground_truth), 0, 1, c = \"Blue\" if self.ground_truth >= 0 else \"Orange\")\n",
    "        plt.legend(bbox_to_anchor=(1.04,1), loc=\"upper left\")\n",
    "        plt.show()  "
   ]
  },
  {
   "cell_type": "code",
   "execution_count": null,
   "metadata": {},
   "outputs": [
    {
     "name": "stdout",
     "output_type": "stream",
     "text": [
      "Converted 09_stat.ipynb.\n"
     ]
    }
   ],
   "source": [
    "from nbdev.export import *\n",
    "notebook2script('09_stat.ipynb')"
   ]
  },
  {
   "cell_type": "code",
   "execution_count": null,
   "metadata": {},
   "outputs": [],
   "source": []
  }
 ],
 "metadata": {
  "kernelspec": {
   "display_name": "Python 3",
   "language": "python",
   "name": "python3"
  }
 },
 "nbformat": 4,
 "nbformat_minor": 4
}
