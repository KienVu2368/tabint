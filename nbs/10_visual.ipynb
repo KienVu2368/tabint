{
 "cells": [
  {
   "cell_type": "code",
   "execution_count": null,
   "metadata": {},
   "outputs": [],
   "source": [
    "#hide\n",
    "import sys\n",
    "path = '/home/ddpham/git/tabint'\n",
    "sys.path.insert(1, path)"
   ]
  },
  {
   "cell_type": "code",
   "execution_count": null,
   "metadata": {},
   "outputs": [],
   "source": [
    "#default_exp visual"
   ]
  },
  {
   "cell_type": "code",
   "execution_count": null,
   "metadata": {},
   "outputs": [
    {
     "ename": "AttributeError",
     "evalue": "partially initialized module 'tabint.learner' has no attribute 'BaseLeaner' (most likely due to a circular import)",
     "output_type": "error",
     "traceback": [
      "\u001b[0;31m---------------------------------------------------------------------------\u001b[0m",
      "\u001b[0;31mAttributeError\u001b[0m                            Traceback (most recent call last)",
      "\u001b[0;32m<ipython-input-3-4d280e5a30a0>\u001b[0m in \u001b[0;36m<module>\u001b[0;34m\u001b[0m\n\u001b[1;32m      6\u001b[0m \u001b[0;32mfrom\u001b[0m \u001b[0mtabint\u001b[0m\u001b[0;34m.\u001b[0m\u001b[0mpre_processing\u001b[0m \u001b[0;32mimport\u001b[0m \u001b[0;34m*\u001b[0m\u001b[0;34m\u001b[0m\u001b[0;34m\u001b[0m\u001b[0m\n\u001b[1;32m      7\u001b[0m \u001b[0;32mfrom\u001b[0m \u001b[0mtabint\u001b[0m\u001b[0;34m.\u001b[0m\u001b[0mdataset\u001b[0m \u001b[0;32mimport\u001b[0m \u001b[0;34m*\u001b[0m\u001b[0;34m\u001b[0m\u001b[0;34m\u001b[0m\u001b[0m\n\u001b[0;32m----> 8\u001b[0;31m \u001b[0;32mfrom\u001b[0m \u001b[0mtabint\u001b[0m\u001b[0;34m.\u001b[0m\u001b[0mlearner\u001b[0m \u001b[0;32mimport\u001b[0m \u001b[0;34m*\u001b[0m\u001b[0;34m\u001b[0m\u001b[0;34m\u001b[0m\u001b[0m\n\u001b[0m\u001b[1;32m      9\u001b[0m \u001b[0;32mimport\u001b[0m \u001b[0mmatplotlib\u001b[0m\u001b[0;34m.\u001b[0m\u001b[0mpyplot\u001b[0m \u001b[0;32mas\u001b[0m \u001b[0mplt\u001b[0m\u001b[0;34m\u001b[0m\u001b[0;34m\u001b[0m\u001b[0m\n\u001b[1;32m     10\u001b[0m \u001b[0;32mimport\u001b[0m \u001b[0mseaborn\u001b[0m \u001b[0;32mas\u001b[0m \u001b[0msns\u001b[0m\u001b[0;34m\u001b[0m\u001b[0;34m\u001b[0m\u001b[0m\n",
      "\u001b[0;32m~/git/tabint/tabint/learner.py\u001b[0m in \u001b[0;36m<module>\u001b[0;34m\u001b[0m\n\u001b[1;32m      6\u001b[0m \u001b[0;32mimport\u001b[0m \u001b[0mpandas\u001b[0m \u001b[0;32mas\u001b[0m \u001b[0mpd\u001b[0m\u001b[0;34m\u001b[0m\u001b[0;34m\u001b[0m\u001b[0m\n\u001b[1;32m      7\u001b[0m \u001b[0;32mimport\u001b[0m \u001b[0mnumpy\u001b[0m \u001b[0;32mas\u001b[0m \u001b[0mnp\u001b[0m\u001b[0;34m\u001b[0m\u001b[0;34m\u001b[0m\u001b[0m\n\u001b[0;32m----> 8\u001b[0;31m \u001b[0;32mfrom\u001b[0m \u001b[0;34m.\u001b[0m\u001b[0mvisual\u001b[0m \u001b[0;32mimport\u001b[0m \u001b[0;34m*\u001b[0m\u001b[0;34m\u001b[0m\u001b[0;34m\u001b[0m\u001b[0m\n\u001b[0m\u001b[1;32m      9\u001b[0m \u001b[0;32mfrom\u001b[0m \u001b[0;34m.\u001b[0m\u001b[0mutils\u001b[0m \u001b[0;32mimport\u001b[0m \u001b[0;34m*\u001b[0m\u001b[0;34m\u001b[0m\u001b[0;34m\u001b[0m\u001b[0m\n\u001b[1;32m     10\u001b[0m \u001b[0;32mimport\u001b[0m \u001b[0mlightgbm\u001b[0m \u001b[0;32mas\u001b[0m \u001b[0mlgb\u001b[0m\u001b[0;34m\u001b[0m\u001b[0;34m\u001b[0m\u001b[0m\n",
      "\u001b[0;32m~/git/tabint/tabint/visual.py\u001b[0m in \u001b[0;36m<module>\u001b[0;34m\u001b[0m\n\u001b[1;32m      5\u001b[0m \u001b[0;32mfrom\u001b[0m \u001b[0;34m.\u001b[0m\u001b[0mpre_processing\u001b[0m \u001b[0;32mimport\u001b[0m \u001b[0;34m*\u001b[0m\u001b[0;34m\u001b[0m\u001b[0;34m\u001b[0m\u001b[0m\n\u001b[1;32m      6\u001b[0m \u001b[0;32mfrom\u001b[0m \u001b[0;34m.\u001b[0m\u001b[0mdataset\u001b[0m \u001b[0;32mimport\u001b[0m \u001b[0;34m*\u001b[0m\u001b[0;34m\u001b[0m\u001b[0;34m\u001b[0m\u001b[0m\n\u001b[0;32m----> 7\u001b[0;31m \u001b[0;32mfrom\u001b[0m \u001b[0;34m.\u001b[0m\u001b[0mlearner\u001b[0m \u001b[0;32mimport\u001b[0m \u001b[0;34m*\u001b[0m\u001b[0;34m\u001b[0m\u001b[0;34m\u001b[0m\u001b[0m\n\u001b[0m\u001b[1;32m      8\u001b[0m \u001b[0;32mimport\u001b[0m \u001b[0mmatplotlib\u001b[0m\u001b[0;34m.\u001b[0m\u001b[0mpyplot\u001b[0m \u001b[0;32mas\u001b[0m \u001b[0mplt\u001b[0m\u001b[0;34m\u001b[0m\u001b[0;34m\u001b[0m\u001b[0m\n\u001b[1;32m      9\u001b[0m \u001b[0;32mimport\u001b[0m \u001b[0mseaborn\u001b[0m \u001b[0;32mas\u001b[0m \u001b[0msns\u001b[0m\u001b[0;34m\u001b[0m\u001b[0;34m\u001b[0m\u001b[0m\n",
      "\u001b[0;31mAttributeError\u001b[0m: partially initialized module 'tabint.learner' has no attribute 'BaseLeaner' (most likely due to a circular import)"
     ]
    }
   ],
   "source": [
    "#export\n",
    "from tabint.utils import *\n",
    "import numpy as np\n",
    "import pandas as pd\n",
    "import pdb\n",
    "from tabint.pre_processing import *\n",
    "from tabint.dataset import *\n",
    "from tabint.learner import *\n",
    "import matplotlib.pyplot as plt\n",
    "import seaborn as sns\n",
    "import waterfall_chart\n",
    "import graphviz\n",
    "from sklearn.tree import export_graphviz\n",
    "import IPython\n",
    "import re"
   ]
  },
  {
   "cell_type": "code",
   "execution_count": null,
   "metadata": {},
   "outputs": [],
   "source": [
    "#export\n",
    "def change_xaxis_pos(top):\n",
    "    if top:\n",
    "        plt.rcParams['xtick.bottom'] = plt.rcParams['xtick.labelbottom'] = False\n",
    "        plt.rcParams['xtick.top'] = plt.rcParams['xtick.labeltop'] = True\n",
    "    else:\n",
    "        plt.rcParams['xtick.bottom'] = plt.rcParams['xtick.labelbottom'] = True\n",
    "        plt.rcParams['xtick.top'] = plt.rcParams['xtick.labeltop'] = False"
   ]
  },
  {
   "cell_type": "code",
   "execution_count": null,
   "metadata": {},
   "outputs": [],
   "source": [
    "#export\n",
    "class BaseViz:\n",
    "    def __init__(self, *karg, **kargs):\n",
    "        self.data = data\n",
    "\n",
    "    @classmethod\n",
    "    def from_learner(cls, *karg, **kargs): pass  \n",
    "    \n",
    "    @classmethod\n",
    "    def from_df(cls, *karg, **kargs):\n",
    "        data = cls.calculate(*karg, **kargs)\n",
    "        return cls(data)\n",
    "\n",
    "    @classmethod\n",
    "    def from_series(cls, *karg, **kargs): pass\n",
    "\n",
    "    @staticmethod\n",
    "    def calculate(*karg, **kargs): pass\n",
    "\n",
    "    def plot(self, *args, **kagrs): pass"
   ]
  },
  {
   "cell_type": "code",
   "execution_count": null,
   "metadata": {},
   "outputs": [],
   "source": [
    "#export\n",
    "class Missing(BaseViz):\n",
    "    @staticmethod\n",
    "    def calculate(df):\n",
    "        df_miss = df.isnull().sum()/len(df)*100\n",
    "        df_miss = df_miss[df_miss > 0]\n",
    "        if df_miss.shape[0] == 0: print('no missing data'); return None\n",
    "        else:\n",
    "            data = pd.DataFrame({'feature':df_miss.index, 'missing percent':df_miss.values})\n",
    "            return cls(ResultDF(data, 'missing percent'))\n",
    "\n",
    "    def plot(self): return plot_barh_from_df(self.data())"
   ]
  },
  {
   "cell_type": "code",
   "execution_count": null,
   "metadata": {},
   "outputs": [],
   "source": [
    "#export\n",
    "class Correlation(BaseViz):\n",
    "    @staticmethod\n",
    "    def calculate(df, target):\n",
    "        correlations = df.corr()[target]\n",
    "        corr_df = pd.DataFrame({'feature': correlations.index, 'corr':correlations.values})\n",
    "        corr_df['neg'] = corr_df['corr'] < 0\n",
    "        corr_df['corr'] = abs(corr_df['corr'])\n",
    "        corr_df = corr_df[corr_df['column'] != target]\n",
    "        return ResultDF(corr_df, 'corr')\n",
    "    \n",
    "    def plot(self): return plot_barh_from_df(self.data())"
   ]
  },
  {
   "cell_type": "code",
   "execution_count": null,
   "metadata": {},
   "outputs": [],
   "source": [
    "#export\n",
    "def plot_barh_from_df(df, width = 20, height_ratio = 4):\n",
    "    change_xaxis_pos(True)\n",
    "    sort_asc(df).plot(x = df.columns[0],\n",
    "                      kind='barh',\n",
    "                      figsize=(width, df.shape[0]//height_ratio), \n",
    "                      legend=False)\n",
    "    change_xaxis_pos(False)"
   ]
  },
  {
   "cell_type": "code",
   "execution_count": null,
   "metadata": {},
   "outputs": [],
   "source": [
    "#export\n",
    "def plot_barh_from_series(features, series, figsize = None, absolute = False, pos_color = 'g', neg_color = 'r'):\n",
    "    if figsize is not None: plt.figure(figsize=figsize)\n",
    "    if type(series) == list: series = np.array(series)\n",
    "    change_xaxis_pos(True)\n",
    "    \n",
    "    if not absolute: \n",
    "        argsort = np.argsort(series)\n",
    "        barh = plt.barh([features[s] for s in argsort], series[argsort],color=pos_color)\n",
    "        mask = series[argsort]<0\n",
    "    else:\n",
    "        series_absolute = np.abs(series)\n",
    "        argsort = np.argsort(series_absolute)\n",
    "        mask = series[argsort]<0\n",
    "        barh = plt.barh([features[s] for s in argsort], series_absolute[argsort], color=pos_color)\n",
    "    \n",
    "    for i,m in enumerate(mask): \n",
    "        if m: barh[i].set_color(neg_color)\n",
    "    \n",
    "    change_xaxis_pos(False)"
   ]
  },
  {
   "cell_type": "code",
   "execution_count": null,
   "metadata": {},
   "outputs": [],
   "source": [
    "#export\n",
    "class Histogram(BaseViz):\n",
    "    def __init__(self, data, plot_df, bins):\n",
    "        super().__init__()\n",
    "        self.plot_df, self.bins = plot_df, bins\n",
    "    \n",
    "    @classmethod\n",
    "    def from_df(cls, df, cols = None, bins=20):\n",
    "        plot_df = df.copy() if cols is None else df[to_iter(cols)]\n",
    "        data = cls.calculate(plot_df, bins)\n",
    "        return cls(plot_df, data, bins)\n",
    "    \n",
    "    @staticmethod\n",
    "    def calculate(df, bins):\n",
    "        result = pd.DataFrame(columns=['feature', 'division', 'count'])\n",
    "        for col, value in df.items():\n",
    "            count, division = cal_histogram(value, bins)\n",
    "            data = df_append(result, [[col]*bins, division, count])\n",
    "        return ResultDF(data, 'count')\n",
    "    \n",
    "    def plot(self, bins = None): return plot_hist(self.plot_df, bins = bins or self.bins)"
   ]
  },
  {
   "cell_type": "code",
   "execution_count": null,
   "metadata": {},
   "outputs": [],
   "source": [
    "#export\n",
    "def cal_histogram(value, bins):\n",
    "    count, division = np.histogram(value, bins=bins)\n",
    "    division = [str(division[i]) + '~' + str(division[i+1]) for i in range(len(division)-1)]\n",
    "    return count, division"
   ]
  },
  {
   "cell_type": "code",
   "execution_count": null,
   "metadata": {},
   "outputs": [],
   "source": [
    "#export\n",
    "def plot_hist(df,  bins = 20):\n",
    "    plt.figure(figsize = (5, df.shape[1]*4))\n",
    "    for i, col in enumerate(df.columns):\n",
    "        plt.subplot(df.shape[1], 1, i+1)\n",
    "        df[col].plot(kind = 'hist', edgecolor = 'k', bins = bins)\n",
    "        plt.title(col)\n",
    "    plt.tight_layout(h_pad = 2.5)"
   ]
  },
  {
   "cell_type": "code",
   "execution_count": null,
   "metadata": {},
   "outputs": [],
   "source": [
    "#export\n",
    "class BoxnWhisker(BaseViz):\n",
    "    def __init__(self, data, features, values):\n",
    "        super().__init__()\n",
    "        self.features, self.values = features, values\n",
    "        \n",
    "    @classmethod\n",
    "    def from_df(cls, df, features = None):\n",
    "        values = df.values.T if features is None else df[to_iter(features)].values.T\n",
    "        features = features or df.columns        \n",
    "        return cls.from_series(features, values)\n",
    "    \n",
    "    @classmethod\n",
    "    def from_series(cls, features, values):\n",
    "        data = cls.calculate(features, values)\n",
    "        return cls(data, to_iter(features), to_iter(values))\n",
    "\n",
    "    @staticmethod\n",
    "    def calculate(features, values):\n",
    "        data = pd.DataFrame(columns=['feature', 'min', 'q1', 'median', 'q3', 'max'])\n",
    "        for ft, v in zip(features, values): \n",
    "            Min, Q1, Median, Q3, Max, _ = boxnwhisker_value(v)\n",
    "            data = df_append(data, [ft, Min, Q1, Median, Q3, Max])\n",
    "        return data\n",
    "\n",
    "    def plot(self, orient = 'h', **kwarg): \n",
    "        for f, v in zip(self.features, self.values): plot_boxnwhisker(f, v, orient = orient, **kwarg)"
   ]
  },
  {
   "cell_type": "code",
   "execution_count": null,
   "metadata": {},
   "outputs": [],
   "source": [
    "#export\n",
    "def plot_boxnwhisker(feature_name, value, orient = 'h', **kwarg):\n",
    "    plt.figure()\n",
    "    sns.boxplot(data = value, orient = orient, **kwarg).set(ylabel=feature_name)"
   ]
  },
  {
   "cell_type": "code",
   "execution_count": null,
   "metadata": {},
   "outputs": [],
   "source": [
    "#export\n",
    "class KernelDensityEstimation(BaseViz):\n",
    "    def __init__(self, data, label_uniques, label_values, features_name, features_value, bins):\n",
    "        super().__init__()\n",
    "        self.label_uniques, self.label_values = label_uniques, label_values\n",
    "        self.features_name, self.features_value = features_name, features_value\n",
    "        self.bins = bins\n",
    "\n",
    "    @classmethod\n",
    "    def from_df(cls, df, label_name, features_name):\n",
    "        label_values = df[label_name].values\n",
    "        features_value = df[features_name].values\n",
    "        return cls.from_series(features_name, features_value, label_values, bins)\n",
    "\n",
    "    @classmethod\n",
    "    def from_learner(cls, learner, ds, bins = 50): \n",
    "        y_predict = learner.predict(ds.x_val)\n",
    "        y_true = ds.y_val\n",
    "        return cls.from_series('prob', y_predict, y_true, bins)\n",
    "\n",
    "    @classmethod\n",
    "    def from_series(cls, features_name, features_value, label_values, bins = 50):\n",
    "        label_uniques = np.unique(label_values)\n",
    "        features_name, features_value = to_iter(features_name), to_iter(features_value)\n",
    "        data = cls.calculate(label_uniques, label_values, features_name, features_value, bins)\n",
    "        return cls(ResultDF(data,'count'), label_uniques, label_values, features_name, features_value, bins)\n",
    "    \n",
    "    @staticmethod\n",
    "    def calculate(label_uniques, label_values, features_name, features_value, bins):\n",
    "        data = pd.DataFrame(columns=['feature', 'division', 'label', 'count'])\n",
    "        for col_name, col_value in zip(features_name, features_value):\n",
    "            for label in label_uniques:\n",
    "                count, division = cal_histogram(na_rm(col_value[label_values == label]), bins)\n",
    "                data = df_append(data, [col_name]*bins, division, [label]*bins, count)\n",
    "        return data\n",
    "        \n",
    "    def plot(self, bins = None, vline = None, **kargs):\n",
    "        for col_name, col_value in zip(self.features_name, self.features_value):\n",
    "            plot_kde(self.label_uniques, self.label_values, col_name, col_value, gridsize = bins or self.bins, vline = vline, **kargs)\n",
    "\n",
    "\n",
    "def plot_kde(label_uniques, label_values, col_name, col_value, vline = None, figsize = None, shade = True, gridsize=100):\n",
    "    if figsize is None: plt.figure(figsize = figsize)\n",
    "    else: plt.figure()\n",
    "\n",
    "    for label in label_uniques: \n",
    "        sns.kdeplot(col_value[label_values == label], shade=shade, label = 'label: ' + str(label), gridsize = gridsize)\n",
    "    if vline is not None: plt.axvline(vline)\n",
    "    plt.title('Distribution of %s by Label Value' % col_name)\n",
    "    plt.xlabel('%s' % col_name)\n",
    "    plt.ylabel('Density')\n",
    "\n",
    "\n",
    "def plot_roc_curve(fpr, tpr, roc_auc):\n",
    "    plt.title('Receiver Operating Characteristic')\n",
    "    plt.plot(fpr, tpr, 'b', label = 'AUC = %0.2f' % roc_auc)\n",
    "    plt.legend(loc = 'lower right')\n",
    "    plt.plot([0, 1], [0, 1],'r--')\n",
    "    plt.xlim([0, 1])\n",
    "    plt.ylim([0, 1])\n",
    "    plt.ylabel('True Positive Rate')\n",
    "    plt.xlabel('False Positive Rate')\n",
    "\n",
    "\n",
    "def plot_line(x_series, y_series, labels = None, fmts = None, xlabel = None, xlim = None, ylim = None, **kwargs):\n",
    "    length = len(to_iter(x_series))\n",
    "    if fmts is None: fmts = [None]*length\n",
    "    if labels is None: labels_ = [None]*length\n",
    "    for x_serie, y_serie, label, fmt in zip(to_iter(x_series),to_iter(y_series),to_iter(labels_), to_iter(fmts)):\n",
    "        params = [x_serie, y_serie]\n",
    "        if fmt is not None: params.append(fmt)\n",
    "        if label is not None: params.append(label)\n",
    "        plt.plot(*params, **kwargs)\n",
    "    if xlabel is not None: plt.xlabel(xlabel)\n",
    "    if ylim is not None: plt.ylim(ylim)\n",
    "    if xlim is not None: plt.xlim(xlim)\n",
    "\n",
    "\n",
    "def plot_bisectrix(start = 0, stop = 10, num = 20, **kargs):\n",
    "    obs = np.linspace(start = start, stop = stop, num = num)\n",
    "    plot_line(obs, obs, **kargs)"
   ]
  },
  {
   "cell_type": "code",
   "execution_count": null,
   "metadata": {},
   "outputs": [],
   "source": [
    "#export\n",
    "def plot_waterfall(Column, contributions, rotation_value=90, threshold=0.2, sorted_value=True, **kargs):\n",
    "    return waterfall_chart.plot(Column, contributions, rotation_value=rotation_value, threshold=threshold, sorted_value=sorted_value,**kargs)"
   ]
  },
  {
   "cell_type": "code",
   "execution_count": null,
   "metadata": {},
   "outputs": [],
   "source": [
    "#export\n",
    "def plot_SKTree(es, features, precision=0, size=10, ratio=0.6, **kargs):\n",
    "    p=export_graphviz(es, out_file=None, feature_names=features, filled=True,\n",
    "                      special_characters=True, rotate=True, precision=precision)\n",
    "    IPython.display.display(graphviz.Source(re.sub('Tree {', f'Tree {{ size={size}; ratio={ratio}', p)))"
   ]
  },
  {
   "cell_type": "code",
   "execution_count": null,
   "metadata": {},
   "outputs": [],
   "source": [
    "#export\n",
    "def plot_LGBTree(md, tree_index, figsize = (20, 8), show_info = ['split_gain'], **kargs):\n",
    "    # still error\n",
    "    ax = lgb.plot_tree(md, tree_index=tree_index, figsize=figsize, show_info=show_info, **kargs)"
   ]
  },
  {
   "cell_type": "code",
   "execution_count": null,
   "metadata": {},
   "outputs": [],
   "source": [
    "#export\n",
    "def plot_scatter(x, y, xlabel=None, ylabel=None, title = None, hue=None, **kargs): \n",
    "    sns.scatterplot(x, y, hue=hue, **kargs)\n",
    "    if xlabel is not None: plt.xlabel(xlabel)\n",
    "    if ylabel is not None: plt.ylabel(ylabel)\n",
    "    if title is not None: plt.title(title)"
   ]
  },
  {
   "cell_type": "code",
   "execution_count": null,
   "metadata": {},
   "outputs": [],
   "source": [
    "#export\n",
    "def plot_legend(loc = 'center left', bbox_to_anchor=(1, 0.5)): plt.legend(loc='center left', bbox_to_anchor=(1, 0.5))"
   ]
  },
  {
   "cell_type": "code",
   "execution_count": null,
   "metadata": {},
   "outputs": [
    {
     "name": "stdout",
     "output_type": "stream",
     "text": [
      "Converted 10_visual.ipynb.\n"
     ]
    }
   ],
   "source": [
    "from nbdev.export import *\n",
    "notebook2script('10_visual.ipynb')"
   ]
  },
  {
   "cell_type": "code",
   "execution_count": null,
   "metadata": {},
   "outputs": [],
   "source": []
  }
 ],
 "metadata": {
  "kernelspec": {
   "display_name": "Python 3",
   "language": "python",
   "name": "python3"
  }
 },
 "nbformat": 4,
 "nbformat_minor": 4
}
