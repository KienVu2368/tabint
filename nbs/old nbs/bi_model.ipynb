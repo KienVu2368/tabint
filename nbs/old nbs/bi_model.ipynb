{
 "metadata": {
  "language_info": {
   "codemirror_mode": {
    "name": "ipython",
    "version": 3
   },
   "file_extension": ".py",
   "mimetype": "text/x-python",
   "name": "python",
   "nbconvert_exporter": "python",
   "pygments_lexer": "ipython3",
   "version": "3.8.3-final"
  },
  "orig_nbformat": 2,
  "kernelspec": {
   "name": "python3",
   "display_name": "Python 3"
  }
 },
 "nbformat": 4,
 "nbformat_minor": 2,
 "cells": [
  {
   "cell_type": "code",
   "execution_count": 1,
   "metadata": {},
   "outputs": [
    {
     "output_type": "error",
     "ename": "ModuleNotFoundError",
     "evalue": "No module named 'bi_model'",
     "traceback": [
      "\u001b[1;31m---------------------------------------------------------------------------\u001b[0m",
      "\u001b[1;31mModuleNotFoundError\u001b[0m                       Traceback (most recent call last)",
      "\u001b[1;32m<ipython-input-1-b64f9beedd95>\u001b[0m in \u001b[0;36m<module>\u001b[1;34m\u001b[0m\n\u001b[1;32m----> 1\u001b[1;33m \u001b[1;32mimport\u001b[0m \u001b[0mbi_model\u001b[0m\u001b[1;33m\u001b[0m\u001b[1;33m\u001b[0m\u001b[0m\n\u001b[0m\u001b[0;32m      2\u001b[0m \u001b[1;32mfrom\u001b[0m \u001b[0mbi_model\u001b[0m \u001b[1;32mimport\u001b[0m \u001b[0mpowerbi\u001b[0m\u001b[1;33m\u001b[0m\u001b[1;33m\u001b[0m\u001b[0m\n",
      "\u001b[1;31mModuleNotFoundError\u001b[0m: No module named 'bi_model'"
     ]
    }
   ],
   "source": [
    "import bi_model\n",
    "from bi_model import powerbi"
   ]
  },
  {
   "cell_type": "code",
   "execution_count": null,
   "metadata": {},
   "outputs": [],
   "source": [
    "model = powerbi.from_data_source(\"localhost:63172\")\n",
    "dax_string = '''\n",
    "\n",
    "// DAX Query\n",
    "DEFINE VAR __DS0FilterTable = \n",
    "  FILTER(\n",
    "    KEEPFILTERS(VALUES('Date'[Date])),\n",
    "    'Date'[Date] >= DATE(2020, 6, 29)\n",
    "  )\n",
    "\n",
    "EVALUATE\n",
    "  TOPN(\n",
    "    501,\n",
    "    CALCULATETABLE(\n",
    "      DISTINCT('booking'[source]),\n",
    "      KEEPFILTERS(__DS0FilterTable)\n",
    "    ),\n",
    "    'booking'[source],\n",
    "    1\n",
    "  )\n",
    "\n",
    "ORDER BY\n",
    "  'booking'[source]\n",
    "\n",
    "'''\n",
    "\n",
    "model.get_DAX(dax_string)"
   ]
  }
 ]
}