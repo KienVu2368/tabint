{
 "cells": [
  {
   "cell_type": "code",
   "execution_count": 5,
   "metadata": {},
   "outputs": [],
   "source": [
    "import tabint\n",
    "from tabint import bi_model\n",
    "from tabint.bi_model import *"
   ]
  },
  {
   "cell_type": "code",
   "execution_count": 6,
   "metadata": {},
   "outputs": [],
   "source": [
    "link = 'localhost:59228'"
   ]
  },
  {
   "cell_type": "code",
   "execution_count": 10,
   "metadata": {},
   "outputs": [],
   "source": [
    "dax_string = '''\n",
    "\n",
    "// DAX Query\n",
    "DEFINE VAR __DS0FilterTable = \n",
    "  FILTER(\n",
    "    KEEPFILTERS(VALUES('Date'[Date])),\n",
    "    'Date'[Date] >= DATE(2020, 6, 29)\n",
    "  )\n",
    "\n",
    "EVALUATE\n",
    "  TOPN(\n",
    "    502,\n",
    "    SUMMARIZECOLUMNS(\n",
    "      ROLLUPADDISSUBTOTAL(ROLLUPGROUP('booking'[booking_type], 'booking'[status]), \"IsGrandTotalRowTotal\"),\n",
    "      __DS0FilterTable,\n",
    "      \"Number_of_booking\", 'booking measure'[Number of booking]\n",
    "    ),\n",
    "    [IsGrandTotalRowTotal],\n",
    "    0,\n",
    "    'booking'[booking_type],\n",
    "    1,\n",
    "    'booking'[status],\n",
    "    1\n",
    "  )\n",
    "\n",
    "ORDER BY\n",
    "  [IsGrandTotalRowTotal] DESC, 'booking'[booking_type], 'booking'[status]\n",
    "\n",
    "\n",
    "'''"
   ]
  },
  {
   "cell_type": "code",
   "execution_count": 8,
   "metadata": {},
   "outputs": [],
   "source": [
    "model = powerbi.from_data_source(link)"
   ]
  },
  {
   "cell_type": "code",
   "execution_count": 25,
   "metadata": {},
   "outputs": [],
   "source": [
    "df = model.get_DAX(dax_string)"
   ]
  },
  {
   "cell_type": "code",
   "execution_count": 26,
   "metadata": {},
   "outputs": [
    {
     "data": {
      "text/html": [
       "<div>\n",
       "<style scoped>\n",
       "    .dataframe tbody tr th:only-of-type {\n",
       "        vertical-align: middle;\n",
       "    }\n",
       "\n",
       "    .dataframe tbody tr th {\n",
       "        vertical-align: top;\n",
       "    }\n",
       "\n",
       "    .dataframe thead th {\n",
       "        text-align: right;\n",
       "    }\n",
       "</style>\n",
       "<table border=\"1\" class=\"dataframe\">\n",
       "  <thead>\n",
       "    <tr style=\"text-align: right;\">\n",
       "      <th></th>\n",
       "      <th>booking[booking_type]</th>\n",
       "      <th>booking[status]</th>\n",
       "      <th>[IsGrandTotalRowTotal]</th>\n",
       "      <th>[Number_of_booking]</th>\n",
       "    </tr>\n",
       "  </thead>\n",
       "  <tbody>\n",
       "    <tr>\n",
       "      <th>0</th>\n",
       "      <td>nan</td>\n",
       "      <td>nan</td>\n",
       "      <td>True</td>\n",
       "      <td>8790</td>\n",
       "    </tr>\n",
       "    <tr>\n",
       "      <th>1</th>\n",
       "      <td>instant_book</td>\n",
       "      <td>Cancel by Guest</td>\n",
       "      <td>False</td>\n",
       "      <td>258</td>\n",
       "    </tr>\n",
       "    <tr>\n",
       "      <th>2</th>\n",
       "      <td>instant_book</td>\n",
       "      <td>Cancel by host</td>\n",
       "      <td>False</td>\n",
       "      <td>65</td>\n",
       "    </tr>\n",
       "    <tr>\n",
       "      <th>3</th>\n",
       "      <td>instant_book</td>\n",
       "      <td>Completed</td>\n",
       "      <td>False</td>\n",
       "      <td>1905</td>\n",
       "    </tr>\n",
       "    <tr>\n",
       "      <th>4</th>\n",
       "      <td>instant_book</td>\n",
       "      <td>Incomplete</td>\n",
       "      <td>False</td>\n",
       "      <td>2656</td>\n",
       "    </tr>\n",
       "    <tr>\n",
       "      <th>5</th>\n",
       "      <td>instant_book</td>\n",
       "      <td>Incomplete by guest</td>\n",
       "      <td>False</td>\n",
       "      <td>8</td>\n",
       "    </tr>\n",
       "    <tr>\n",
       "      <th>6</th>\n",
       "      <td>instant_book</td>\n",
       "      <td>Pending</td>\n",
       "      <td>False</td>\n",
       "      <td>33</td>\n",
       "    </tr>\n",
       "    <tr>\n",
       "      <th>7</th>\n",
       "      <td>request_to_book</td>\n",
       "      <td>Accepted</td>\n",
       "      <td>False</td>\n",
       "      <td>10</td>\n",
       "    </tr>\n",
       "    <tr>\n",
       "      <th>8</th>\n",
       "      <td>request_to_book</td>\n",
       "      <td>Cancel by Guest</td>\n",
       "      <td>False</td>\n",
       "      <td>152</td>\n",
       "    </tr>\n",
       "    <tr>\n",
       "      <th>9</th>\n",
       "      <td>request_to_book</td>\n",
       "      <td>Cancel by host</td>\n",
       "      <td>False</td>\n",
       "      <td>13</td>\n",
       "    </tr>\n",
       "    <tr>\n",
       "      <th>10</th>\n",
       "      <td>request_to_book</td>\n",
       "      <td>Completed</td>\n",
       "      <td>False</td>\n",
       "      <td>977</td>\n",
       "    </tr>\n",
       "    <tr>\n",
       "      <th>11</th>\n",
       "      <td>request_to_book</td>\n",
       "      <td>Declined</td>\n",
       "      <td>False</td>\n",
       "      <td>741</td>\n",
       "    </tr>\n",
       "    <tr>\n",
       "      <th>12</th>\n",
       "      <td>request_to_book</td>\n",
       "      <td>Incomplete</td>\n",
       "      <td>False</td>\n",
       "      <td>1951</td>\n",
       "    </tr>\n",
       "    <tr>\n",
       "      <th>13</th>\n",
       "      <td>request_to_book</td>\n",
       "      <td>Incomplete by guest</td>\n",
       "      <td>False</td>\n",
       "      <td>15</td>\n",
       "    </tr>\n",
       "    <tr>\n",
       "      <th>14</th>\n",
       "      <td>request_to_book</td>\n",
       "      <td>Requested</td>\n",
       "      <td>False</td>\n",
       "      <td>6</td>\n",
       "    </tr>\n",
       "  </tbody>\n",
       "</table>\n",
       "</div>"
      ],
      "text/plain": [
       "   booking[booking_type]      booking[status] [IsGrandTotalRowTotal]  \\\n",
       "0                    nan                  nan                   True   \n",
       "1           instant_book      Cancel by Guest                  False   \n",
       "2           instant_book       Cancel by host                  False   \n",
       "3           instant_book            Completed                  False   \n",
       "4           instant_book           Incomplete                  False   \n",
       "5           instant_book  Incomplete by guest                  False   \n",
       "6           instant_book              Pending                  False   \n",
       "7        request_to_book             Accepted                  False   \n",
       "8        request_to_book      Cancel by Guest                  False   \n",
       "9        request_to_book       Cancel by host                  False   \n",
       "10       request_to_book            Completed                  False   \n",
       "11       request_to_book             Declined                  False   \n",
       "12       request_to_book           Incomplete                  False   \n",
       "13       request_to_book  Incomplete by guest                  False   \n",
       "14       request_to_book            Requested                  False   \n",
       "\n",
       "    [Number_of_booking]  \n",
       "0                  8790  \n",
       "1                   258  \n",
       "2                    65  \n",
       "3                  1905  \n",
       "4                  2656  \n",
       "5                     8  \n",
       "6                    33  \n",
       "7                    10  \n",
       "8                   152  \n",
       "9                    13  \n",
       "10                  977  \n",
       "11                  741  \n",
       "12                 1951  \n",
       "13                   15  \n",
       "14                    6  "
      ]
     },
     "execution_count": 26,
     "metadata": {},
     "output_type": "execute_result"
    }
   ],
   "source": [
    "df"
   ]
  },
  {
   "cell_type": "code",
   "execution_count": 27,
   "metadata": {},
   "outputs": [],
   "source": [
    "df = df[df['booking[booking_type]'] != \"nan\"]"
   ]
  },
  {
   "cell_type": "code",
   "execution_count": 28,
   "metadata": {},
   "outputs": [],
   "source": [
    "df_complete = df[df['booking[status]'] == \"Completed\"]"
   ]
  },
  {
   "cell_type": "code",
   "execution_count": 29,
   "metadata": {},
   "outputs": [
    {
     "data": {
      "text/html": [
       "<div>\n",
       "<style scoped>\n",
       "    .dataframe tbody tr th:only-of-type {\n",
       "        vertical-align: middle;\n",
       "    }\n",
       "\n",
       "    .dataframe tbody tr th {\n",
       "        vertical-align: top;\n",
       "    }\n",
       "\n",
       "    .dataframe thead th {\n",
       "        text-align: right;\n",
       "    }\n",
       "</style>\n",
       "<table border=\"1\" class=\"dataframe\">\n",
       "  <thead>\n",
       "    <tr style=\"text-align: right;\">\n",
       "      <th></th>\n",
       "      <th>booking[booking_type]</th>\n",
       "      <th>booking[status]</th>\n",
       "      <th>[IsGrandTotalRowTotal]</th>\n",
       "      <th>[Number_of_booking]</th>\n",
       "    </tr>\n",
       "  </thead>\n",
       "  <tbody>\n",
       "    <tr>\n",
       "      <th>3</th>\n",
       "      <td>instant_book</td>\n",
       "      <td>Completed</td>\n",
       "      <td>False</td>\n",
       "      <td>1905</td>\n",
       "    </tr>\n",
       "    <tr>\n",
       "      <th>10</th>\n",
       "      <td>request_to_book</td>\n",
       "      <td>Completed</td>\n",
       "      <td>False</td>\n",
       "      <td>977</td>\n",
       "    </tr>\n",
       "  </tbody>\n",
       "</table>\n",
       "</div>"
      ],
      "text/plain": [
       "   booking[booking_type] booking[status] [IsGrandTotalRowTotal]  \\\n",
       "3           instant_book       Completed                  False   \n",
       "10       request_to_book       Completed                  False   \n",
       "\n",
       "    [Number_of_booking]  \n",
       "3                  1905  \n",
       "10                  977  "
      ]
     },
     "execution_count": 29,
     "metadata": {},
     "output_type": "execute_result"
    }
   ],
   "source": [
    "df_complete"
   ]
  },
  {
   "cell_type": "code",
   "execution_count": 33,
   "metadata": {},
   "outputs": [],
   "source": [
    "df_sum = df.groupby(by = ['booking[booking_type]'], as_index=False)['[Number_of_booking]'].sum()"
   ]
  },
  {
   "cell_type": "code",
   "execution_count": 34,
   "metadata": {},
   "outputs": [
    {
     "data": {
      "text/html": [
       "<div>\n",
       "<style scoped>\n",
       "    .dataframe tbody tr th:only-of-type {\n",
       "        vertical-align: middle;\n",
       "    }\n",
       "\n",
       "    .dataframe tbody tr th {\n",
       "        vertical-align: top;\n",
       "    }\n",
       "\n",
       "    .dataframe thead th {\n",
       "        text-align: right;\n",
       "    }\n",
       "</style>\n",
       "<table border=\"1\" class=\"dataframe\">\n",
       "  <thead>\n",
       "    <tr style=\"text-align: right;\">\n",
       "      <th></th>\n",
       "      <th>booking[booking_type]</th>\n",
       "      <th>[Number_of_booking]</th>\n",
       "    </tr>\n",
       "  </thead>\n",
       "  <tbody>\n",
       "    <tr>\n",
       "      <th>0</th>\n",
       "      <td>instant_book</td>\n",
       "      <td>4925</td>\n",
       "    </tr>\n",
       "    <tr>\n",
       "      <th>1</th>\n",
       "      <td>request_to_book</td>\n",
       "      <td>3865</td>\n",
       "    </tr>\n",
       "  </tbody>\n",
       "</table>\n",
       "</div>"
      ],
      "text/plain": [
       "  booking[booking_type]  [Number_of_booking]\n",
       "0          instant_book                 4925\n",
       "1       request_to_book                 3865"
      ]
     },
     "execution_count": 34,
     "metadata": {},
     "output_type": "execute_result"
    }
   ],
   "source": [
    "df_sum"
   ]
  },
  {
   "cell_type": "code",
   "execution_count": 36,
   "metadata": {},
   "outputs": [],
   "source": [
    "from scipy.stats import binom_test"
   ]
  },
  {
   "cell_type": "code",
   "execution_count": 37,
   "metadata": {},
   "outputs": [
    {
     "data": {
      "text/plain": [
       "5.2641027900340074e-95"
      ]
     },
     "execution_count": 37,
     "metadata": {},
     "output_type": "execute_result"
    }
   ],
   "source": [
    "binom_test(1905, 4925, 977/3865, alternative='greater')"
   ]
  }
 ],
 "metadata": {
  "kernelspec": {
   "display_name": "Python [conda env:zero] *",
   "language": "python",
   "name": "conda-env-zero-py"
  },
  "language_info": {
   "codemirror_mode": {
    "name": "ipython",
    "version": 3
   },
   "file_extension": ".py",
   "mimetype": "text/x-python",
   "name": "python",
   "nbconvert_exporter": "python",
   "pygments_lexer": "ipython3",
   "version": "3.8.5"
  }
 },
 "nbformat": 4,
 "nbformat_minor": 2
}
