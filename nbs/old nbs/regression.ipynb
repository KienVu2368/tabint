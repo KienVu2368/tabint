{
 "cells": [
  {
   "cell_type": "code",
   "execution_count": 1,
   "metadata": {
    "scrolled": true
   },
   "outputs": [
    {
     "name": "stderr",
     "output_type": "stream",
     "text": [
      "/home/zero/anaconda/envs/fastai-cpu/lib/python3.6/importlib/_bootstrap.py:219: RuntimeWarning: numpy.dtype size changed, may indicate binary incompatibility. Expected 96, got 88\n",
      "  return f(*args, **kwds)\n",
      "/home/zero/anaconda/envs/fastai-cpu/lib/python3.6/importlib/_bootstrap.py:219: RuntimeWarning: numpy.dtype size changed, may indicate binary incompatibility. Expected 96, got 88\n",
      "  return f(*args, **kwds)\n"
     ]
    }
   ],
   "source": [
    "import tabint\n",
    "from tabint.utils import *\n",
    "from tabint.dataset import *\n",
    "from tabint.feature import *\n",
    "from tabint.pre_processing import *\n",
    "from tabint.visual import *\n",
    "from tabint.learner import *\n",
    "from tabint.interpretation import *\n",
    "from tabint.inference import *"
   ]
  },
  {
   "cell_type": "code",
   "execution_count": 2,
   "metadata": {},
   "outputs": [],
   "source": [
    "from tabint.model_performance import *"
   ]
  },
  {
   "cell_type": "code",
   "execution_count": 3,
   "metadata": {},
   "outputs": [],
   "source": [
    "data = pd.read_csv('DLCO.csv', sep=\";\")"
   ]
  },
  {
   "cell_type": "code",
   "execution_count": 4,
   "metadata": {},
   "outputs": [
    {
     "data": {
      "text/html": [
       "<div>\n",
       "<style scoped>\n",
       "    .dataframe tbody tr th:only-of-type {\n",
       "        vertical-align: middle;\n",
       "    }\n",
       "\n",
       "    .dataframe tbody tr th {\n",
       "        vertical-align: top;\n",
       "    }\n",
       "\n",
       "    .dataframe thead th {\n",
       "        text-align: right;\n",
       "    }\n",
       "</style>\n",
       "<table border=\"1\" class=\"dataframe\">\n",
       "  <thead>\n",
       "    <tr style=\"text-align: right;\">\n",
       "      <th></th>\n",
       "      <th>Sex</th>\n",
       "      <th>Age</th>\n",
       "      <th>Height</th>\n",
       "      <th>DLCO</th>\n",
       "    </tr>\n",
       "  </thead>\n",
       "  <tbody>\n",
       "    <tr>\n",
       "      <th>0</th>\n",
       "      <td>F</td>\n",
       "      <td>20</td>\n",
       "      <td>173.0</td>\n",
       "      <td>29.2</td>\n",
       "    </tr>\n",
       "    <tr>\n",
       "      <th>1</th>\n",
       "      <td>F</td>\n",
       "      <td>22</td>\n",
       "      <td>165.0</td>\n",
       "      <td>26.3</td>\n",
       "    </tr>\n",
       "    <tr>\n",
       "      <th>2</th>\n",
       "      <td>F</td>\n",
       "      <td>22</td>\n",
       "      <td>168.6</td>\n",
       "      <td>27.9</td>\n",
       "    </tr>\n",
       "    <tr>\n",
       "      <th>3</th>\n",
       "      <td>F</td>\n",
       "      <td>23</td>\n",
       "      <td>164.0</td>\n",
       "      <td>25.4</td>\n",
       "    </tr>\n",
       "    <tr>\n",
       "      <th>4</th>\n",
       "      <td>F</td>\n",
       "      <td>24</td>\n",
       "      <td>170.0</td>\n",
       "      <td>29.3</td>\n",
       "    </tr>\n",
       "  </tbody>\n",
       "</table>\n",
       "</div>"
      ],
      "text/plain": [
       "  Sex  Age  Height  DLCO\n",
       "0   F   20   173.0  29.2\n",
       "1   F   22   165.0  26.3\n",
       "2   F   22   168.6  27.9\n",
       "3   F   23   164.0  25.4\n",
       "4   F   24   170.0  29.3"
      ]
     },
     "execution_count": 4,
     "metadata": {},
     "output_type": "execute_result"
    }
   ],
   "source": [
    "data.head()"
   ]
  },
  {
   "cell_type": "code",
   "execution_count": 5,
   "metadata": {},
   "outputs": [],
   "source": [
    "df, y, pp_outp = tabular_proc(data, 'DLCO', [fill_na(), app_cat(), dummies()])"
   ]
  },
  {
   "cell_type": "code",
   "execution_count": 6,
   "metadata": {},
   "outputs": [
    {
     "data": {
      "text/html": [
       "<div>\n",
       "<style scoped>\n",
       "    .dataframe tbody tr th:only-of-type {\n",
       "        vertical-align: middle;\n",
       "    }\n",
       "\n",
       "    .dataframe tbody tr th {\n",
       "        vertical-align: top;\n",
       "    }\n",
       "\n",
       "    .dataframe thead th {\n",
       "        text-align: right;\n",
       "    }\n",
       "</style>\n",
       "<table border=\"1\" class=\"dataframe\">\n",
       "  <thead>\n",
       "    <tr style=\"text-align: right;\">\n",
       "      <th></th>\n",
       "      <th>Age</th>\n",
       "      <th>Height</th>\n",
       "      <th>Sex_F</th>\n",
       "      <th>Sex_M</th>\n",
       "      <th>Sex_nan</th>\n",
       "    </tr>\n",
       "  </thead>\n",
       "  <tbody>\n",
       "    <tr>\n",
       "      <th>0</th>\n",
       "      <td>20</td>\n",
       "      <td>173.0</td>\n",
       "      <td>1</td>\n",
       "      <td>0</td>\n",
       "      <td>0</td>\n",
       "    </tr>\n",
       "    <tr>\n",
       "      <th>1</th>\n",
       "      <td>22</td>\n",
       "      <td>165.0</td>\n",
       "      <td>1</td>\n",
       "      <td>0</td>\n",
       "      <td>0</td>\n",
       "    </tr>\n",
       "    <tr>\n",
       "      <th>2</th>\n",
       "      <td>22</td>\n",
       "      <td>168.6</td>\n",
       "      <td>1</td>\n",
       "      <td>0</td>\n",
       "      <td>0</td>\n",
       "    </tr>\n",
       "    <tr>\n",
       "      <th>3</th>\n",
       "      <td>23</td>\n",
       "      <td>164.0</td>\n",
       "      <td>1</td>\n",
       "      <td>0</td>\n",
       "      <td>0</td>\n",
       "    </tr>\n",
       "    <tr>\n",
       "      <th>4</th>\n",
       "      <td>24</td>\n",
       "      <td>170.0</td>\n",
       "      <td>1</td>\n",
       "      <td>0</td>\n",
       "      <td>0</td>\n",
       "    </tr>\n",
       "  </tbody>\n",
       "</table>\n",
       "</div>"
      ],
      "text/plain": [
       "   Age  Height  Sex_F  Sex_M  Sex_nan\n",
       "0   20   173.0      1      0        0\n",
       "1   22   165.0      1      0        0\n",
       "2   22   168.6      1      0        0\n",
       "3   23   164.0      1      0        0\n",
       "4   24   170.0      1      0        0"
      ]
     },
     "execution_count": 6,
     "metadata": {},
     "output_type": "execute_result"
    }
   ],
   "source": [
    "df.head()"
   ]
  },
  {
   "cell_type": "code",
   "execution_count": 7,
   "metadata": {},
   "outputs": [
    {
     "data": {
      "text/html": [
       "['Age', 'Height']"
      ],
      "text/plain": [
       "['Age', 'Height']"
      ]
     },
     "execution_count": 7,
     "metadata": {},
     "output_type": "execute_result"
    }
   ],
   "source": [
    "pp_outp['cons']"
   ]
  },
  {
   "cell_type": "markdown",
   "metadata": {},
   "source": [
    "# dataset"
   ]
  },
  {
   "cell_type": "code",
   "execution_count": 8,
   "metadata": {},
   "outputs": [],
   "source": [
    "ds = TBDataset.from_SKSplit(df, y=y, cons=pp_outp['cons'])"
   ]
  },
  {
   "cell_type": "code",
   "execution_count": 9,
   "metadata": {},
   "outputs": [
    {
     "data": {
      "text/plain": [
       "509"
      ]
     },
     "execution_count": 9,
     "metadata": {},
     "output_type": "execute_result"
    }
   ],
   "source": [
    "ds.n_trn"
   ]
  },
  {
   "cell_type": "markdown",
   "metadata": {},
   "source": [
    "# learner"
   ]
  },
  {
   "cell_type": "code",
   "execution_count": 10,
   "metadata": {},
   "outputs": [],
   "source": [
    "from sklearn.linear_model import LinearRegression"
   ]
  },
  {
   "cell_type": "code",
   "execution_count": 11,
   "metadata": {},
   "outputs": [],
   "source": [
    "learner = SKLearner(LinearRegression())"
   ]
  },
  {
   "cell_type": "code",
   "execution_count": 12,
   "metadata": {},
   "outputs": [
    {
     "name": "stdout",
     "output_type": "stream",
     "text": [
      "trn score:  0.6441468016446625\n",
      "val score:  0.3882350458409377\n"
     ]
    }
   ],
   "source": [
    "learner.fit(*ds.trn, *ds.val)"
   ]
  },
  {
   "cell_type": "markdown",
   "metadata": {},
   "source": [
    "# plot"
   ]
  },
  {
   "cell_type": "code",
   "execution_count": 13,
   "metadata": {},
   "outputs": [],
   "source": [
    "avp = actual_vs_predict.from_learner(learner, ds)"
   ]
  },
  {
   "cell_type": "code",
   "execution_count": 14,
   "metadata": {},
   "outputs": [
    {
     "data": {
      "image/png": "[encoded data removed]",
      "text/plain": [
       "<Figure size 432x288 with 1 Axes>"
      ]
     },
     "metadata": {},
     "output_type": "display_data"
    }
   ],
   "source": [
    "avp.plot()"
   ]
  },
  {
   "cell_type": "code",
   "execution_count": null,
   "metadata": {},
   "outputs": [],
   "source": []
  },
  {
   "cell_type": "code",
   "execution_count": 15,
   "metadata": {},
   "outputs": [],
   "source": [
    "import seaborn as sns"
   ]
  },
  {
   "cell_type": "code",
   "execution_count": 16,
   "metadata": {},
   "outputs": [],
   "source": [
    "def plot_line(x_series, y_series, labels = None, fmts = None, xlabel = None, xlim = None, ylim = None, **kwargs):\n",
    "    length = len(to_iter(x_series))\n",
    "    if fmts is None: fmts = [None]*length\n",
    "    if labels is None: labels_ = [None]*length\n",
    "    for x_serie, y_serie, label, fmt in zip(to_iter(x_series),to_iter(y_series),to_iter(labels_), to_iter(fmts)):\n",
    "        params = [x_serie, y_serie]\n",
    "        if fmt is not None: params.append(fmt)\n",
    "        if label is not None: params.append(label)\n",
    "        plt.plot(*params, **kwargs)\n",
    "    if xlabel is not None: plt.xlabel(xlabel)\n",
    "    if ylim is not None: plt.ylim(ylim)\n",
    "    if xlim is not None: plt.xlim(xlim)"
   ]
  },
  {
   "cell_type": "code",
   "execution_count": 17,
   "metadata": {},
   "outputs": [],
   "source": [
    "def plot_bisectrix(start = 0, stop = 10, num = 20, **kargs):\n",
    "    obs = np.linspace(start = start, stop = stop, num = num)\n",
    "    plot_line(obs, obs, **kargs)"
   ]
  },
  {
   "cell_type": "code",
   "execution_count": 18,
   "metadata": {},
   "outputs": [],
   "source": [
    "def plot_scatter(x, y, xlabel=None, ylabel=None, title = None, hue=None, **kargs): \n",
    "    sns.scatterplot(pred,ds.y_val, hue=hue, **kargs)\n",
    "    if xlabel is not None: plt.xlabel(xlabel)\n",
    "    if ylabel is not None: plt.ylabel(ylabel)\n",
    "    if title is not None: plt.title(title)"
   ]
  },
  {
   "cell_type": "code",
   "execution_count": 19,
   "metadata": {},
   "outputs": [
    {
     "ename": "SyntaxError",
     "evalue": "invalid syntax (<ipython-input-19-362afbc6a69a>, line 14)",
     "output_type": "error",
     "traceback": [
      "\u001b[0;36m  File \u001b[0;32m\"<ipython-input-19-362afbc6a69a>\"\u001b[0;36m, line \u001b[0;32m14\u001b[0m\n\u001b[0;31m    def from_\u001b[0m\n\u001b[0m             ^\u001b[0m\n\u001b[0;31mSyntaxError\u001b[0m\u001b[0;31m:\u001b[0m invalid syntax\n"
     ]
    }
   ],
   "source": [
    "class actual_vs_predicted:\n",
    "    def __init__(self, actual, predict, df, data):\n",
    "        self.actual, self.predict = actual, predict\n",
    "        self.df, self.data = df, data\n",
    "        \n",
    "    @classmethod\n",
    "    def from_learner(cls, learner, ds):\n",
    "        actual = ds.y_val\n",
    "        predict = learner.predict(ds.x_val)\n",
    "        data = cls.calculate(actual, predict)\n",
    "        return cls(actual, predict, ds.x_val, data)\n",
    "    \n",
    "    @classmethod\n",
    "    def from_\n",
    "    \n",
    "    @staticmethod\n",
    "    def calculate(actual, predict):\n",
    "        data = pd.DataFrame({'actual':actual, 'predict':predict, 'mse': (actual-predict)**2})\n",
    "        return ResultDF(data, 'mse')\n",
    "    \n",
    "    def plot(self, hue = None, num = 100, **kagrs):\n",
    "        if hue is not None: hue = self.df[hue]\n",
    "        concat = np.concatenate([self.actual, self.predict])\n",
    "        plot_scatter(self.actual, self.predict, xlabel='actual', ylabel='predict', hue=hue)\n",
    "        plot_bisectrix(np.min(concat), np.max(concat), num)\n",
    "        plt.legend(loc='center left', bbox_to_anchor=(1, 0.5))"
   ]
  },
  {
   "cell_type": "code",
   "execution_count": 20,
   "metadata": {},
   "outputs": [],
   "source": [
    "avp = actual_vs_predict.from_learner(learner, ds)"
   ]
  },
  {
   "cell_type": "code",
   "execution_count": 21,
   "metadata": {},
   "outputs": [
    {
     "data": {
      "image/png": "[encoded data removed]",
      "text/plain": [
       "<Figure size 432x288 with 1 Axes>"
      ]
     },
     "metadata": {},
     "output_type": "display_data"
    }
   ],
   "source": [
    "avp.plot(hue = 'Height')"
   ]
  },
  {
   "cell_type": "code",
   "execution_count": null,
   "metadata": {},
   "outputs": [],
   "source": []
  },
  {
   "cell_type": "code",
   "execution_count": null,
   "metadata": {},
   "outputs": [],
   "source": []
  },
  {
   "cell_type": "code",
   "execution_count": null,
   "metadata": {},
   "outputs": [],
   "source": []
  },
  {
   "cell_type": "code",
   "execution_count": 16,
   "metadata": {},
   "outputs": [],
   "source": [
    "class model_performace:\n",
    "    def __init__(self, data, **kagrs): \n",
    "        self.data = data\n",
    "    \n",
    "    @classmethod\n",
    "    def from_learner(cls, learner, ds, **kargs):\n",
    "        y_true = ds.y_val\n",
    "        y_pred = learner.predict(ds.x_val)\n",
    "        return y_true, y_pred\n",
    "\n",
    "    @classmethod\n",
    "    def from_df(cls, **kagrs): pass\n",
    "\n",
    "    @classmethod\n",
    "    def from_series(cls, y_true, y_pred, **kargs):\n",
    "        return cls.calculate(y_true, y_pred, **kargs)\n",
    "\n",
    "    @staticmethod\n",
    "    def calculate(y_true, y_pred, **kargs): pass\n",
    "\n",
    "    def plot(self, **kagrs): pass"
   ]
  },
  {
   "cell_type": "code",
   "execution_count": 23,
   "metadata": {},
   "outputs": [],
   "source": [
    "class actual_vs_predict(model_performace):\n",
    "    def __init__(self, data, y_true, y_pred, df):\n",
    "        super().__init__(data)\n",
    "        self.df, self.y_true, self.y_pred = df, y_true, y_pred\n",
    "        \n",
    "    @classmethod\n",
    "    def from_learner(cls, learner, ds):\n",
    "        y_true, y_pred = model_performace.from_learner(learner, ds)\n",
    "        return cls.from_series(y_true, y_pred, ds.x_val)\n",
    "\n",
    "    @classmethod\n",
    "    def from_series(cls, y_true, y_pred, df):\n",
    "        data = model_performace.from_series(y_true, y_pred)\n",
    "        return cls(data, y_true, y_pred, df)\n",
    "    \n",
    "    @staticmethod\n",
    "    def calculate(actual, predict):\n",
    "        data = pd.DataFrame({'actual':actual, 'predict':predict, 'mse': (actual-predict)**2})\n",
    "        return ResultDF(data, 'mse')\n",
    "    \n",
    "    def plot(self, hue = None, num = 100, **kagrs):\n",
    "        if hue is not None: hue = self.df[hue]\n",
    "        concat = np.concatenate([self.y_true, self.y_pred])\n",
    "        plot_scatter(self.y_true, self.y_pred, xlabel='actual', ylabel='predict', hue=hue)\n",
    "        plot_bisectrix(np.min(concat), np.max(concat), num)\n",
    "        if hue is not None: plot_legend()"
   ]
  },
  {
   "cell_type": "code",
   "execution_count": 24,
   "metadata": {},
   "outputs": [],
   "source": [
    "avp = actual_vs_predict.from_learner(learner, ds)"
   ]
  },
  {
   "cell_type": "code",
   "execution_count": 25,
   "metadata": {},
   "outputs": [
    {
     "data": {
      "image/png": "[encoded data removed]",
      "text/plain": [
       "<Figure size 432x288 with 1 Axes>"
      ]
     },
     "metadata": {},
     "output_type": "display_data"
    }
   ],
   "source": [
    "avp.plot()"
   ]
  }
 ],
 "metadata": {
  "kernelspec": {
   "display_name": "Python 3",
   "language": "python",
   "name": "python3"
  },
  "language_info": {
   "codemirror_mode": {
    "name": "ipython",
    "version": 3
   },
   "file_extension": ".py",
   "mimetype": "text/x-python",
   "name": "python",
   "nbconvert_exporter": "python",
   "pygments_lexer": "ipython3",
   "version": "3.6.4"
  },
  "toc": {
   "nav_menu": {},
   "number_sections": true,
   "sideBar": true,
   "skip_h1_title": false,
   "toc_cell": false,
   "toc_position": {},
   "toc_section_display": "block",
   "toc_window_display": false
  },
  "varInspector": {
   "cols": {
    "lenName": 16,
    "lenType": 16,
    "lenVar": 40
   },
   "kernels_config": {
    "python": {
     "delete_cmd_postfix": "",
     "delete_cmd_prefix": "del ",
     "library": "var_list.py",
     "varRefreshCmd": "print(var_dic_list())"
    },
    "r": {
     "delete_cmd_postfix": ") ",
     "delete_cmd_prefix": "rm(",
     "library": "var_list.r",
     "varRefreshCmd": "cat(var_dic_list()) "
    }
   },
   "types_to_exclude": [
    "module",
    "function",
    "builtin_function_or_method",
    "instance",
    "_Feature"
   ],
   "window_display": false
  }
 },
 "nbformat": 4,
 "nbformat_minor": 2
}
