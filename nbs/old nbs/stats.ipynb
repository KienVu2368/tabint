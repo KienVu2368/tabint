{
 "cells": [
  {
   "cell_type": "code",
   "execution_count": 3,
   "metadata": {},
   "outputs": [],
   "source": [
    "import sys\n",
    "sys.path.insert(1, 'D:\\\\Project\\\\tabint')"
   ]
  },
  {
   "cell_type": "code",
   "execution_count": 7,
   "metadata": {},
   "outputs": [],
   "source": [
    "import random"
   ]
  },
  {
   "cell_type": "code",
   "execution_count": 4,
   "metadata": {},
   "outputs": [
    {
     "name": "stderr",
     "output_type": "stream",
     "text": [
      "C:\\Users\\Dell\\Anaconda3\\envs\\zero\\lib\\site-packages\\sklearn\\externals\\joblib\\__init__.py:15: FutureWarning: sklearn.externals.joblib is deprecated in 0.21 and will be removed in 0.23. Please import this functionality directly from joblib, which can be installed with: pip install joblib. If this warning is raised when loading pickled models, you may need to re-serialize those models with scikit-learn 0.21+.\n",
      "  warnings.warn(msg, category=FutureWarning)\n"
     ]
    }
   ],
   "source": [
    "import tabint\n",
    "from tabint.utils import *\n",
    "from tabint.dataset import *\n",
    "from tabint.feature import *\n",
    "from tabint.pre_processing import *\n",
    "from tabint.visual import *\n",
    "from tabint.learner import *\n",
    "from tabint.interpretation import *\n",
    "from tabint.inference import *"
   ]
  },
  {
   "cell_type": "code",
   "execution_count": 54,
   "metadata": {},
   "outputs": [],
   "source": [
    "import matplotlib.pyplot as plt\n",
    "import seaborn as sns"
   ]
  },
  {
   "cell_type": "code",
   "execution_count": 13,
   "metadata": {},
   "outputs": [],
   "source": [
    "import numpy as np"
   ]
  },
  {
   "cell_type": "markdown",
   "metadata": {},
   "source": [
    "# Permutation test"
   ]
  },
  {
   "cell_type": "markdown",
   "metadata": {},
   "source": [
    "## dev lib"
   ]
  },
  {
   "cell_type": "code",
   "execution_count": 1,
   "metadata": {},
   "outputs": [],
   "source": [
    "treatment = [ 28.44,  29.32,  31.22,  29.58,  30.34,  28.76,  29.21,  30.4 ,\n",
    "              31.12,  31.78,  27.58,  31.57,  30.73,  30.43,  30.31,  30.32,\n",
    "              29.18,  29.52,  29.22,  30.56]\n",
    "control = [ 33.51,  30.63,  32.38,  32.52,  29.41,  30.93,  49.78,  28.96,\n",
    "            35.77,  31.42,  30.76,  30.6 ,  23.64,  30.54,  47.78,  31.98,\n",
    "            34.52,  32.42,  31.32,  40.72]"
   ]
  },
  {
   "cell_type": "code",
   "execution_count": 8,
   "metadata": {},
   "outputs": [],
   "source": [
    "x = treatment\n",
    "y = control"
   ]
  },
  {
   "cell_type": "code",
   "execution_count": 47,
   "metadata": {},
   "outputs": [],
   "source": [
    "def list_to_np_array(x): return np.array(x) if type(x) is list else x"
   ]
  },
  {
   "cell_type": "code",
   "execution_count": 108,
   "metadata": {},
   "outputs": [],
   "source": [
    "class Permutation_test:\n",
    "    def __init__(self, x, y, func = np.mean, num_samples = 10000):\n",
    "        self.x, self.y = list_to_np_array(x), list_to_np_array(y)\n",
    "        self.nx, self.ny = len(x), len(y)\n",
    "        self.xy = np.hstack([x,y])\n",
    "        self.func = func\n",
    "        self.num_samples = num_samples\n",
    "        self.ground_truth = self.compute_difference(False)\n",
    "        self.permutation_result = self.run_permutation()\n",
    "        self.p_value_calculation()\n",
    "    \n",
    "    def random_shuffle(self, random_shuffle = True):\n",
    "        if random_shuffle: np.random.shuffle(self.xy)\n",
    "        return self.xy[:self.nx], self.xy[-self.ny:]\n",
    "        \n",
    "    def compute_difference(self, random_shuffle = True):\n",
    "        x_p, y_p = self.random_shuffle(random_shuffle = random_shuffle)\n",
    "        return self.func(x_p) - self.func(y_p)\n",
    "    \n",
    "    def run_permutation(self): \n",
    "        ground_truth = []\n",
    "        for i in range(self.num_samples): ground_truth.append(self.compute_difference())\n",
    "        return list_to_np_array(ground_truth)\n",
    "    \n",
    "    def p_value_calculation(self):\n",
    "        self.p_value_one_side = (len(np.where(self.permutation_result <= self.ground_truth)[0]) if self.ground_truth < 0 else len(np.where(self.permutation_result >= self.ground_truth)[0]))/self.num_samples\n",
    "        self.p_value_two_sides = len(np.where(np.abs(self.permutation_result) >= np.abs(self.ground_truth))[0])/self.num_samples\n",
    "            \n",
    "    def distribution_plot(self):\n",
    "        #pdb.set_trace()\n",
    "        permutation_result_pos = self.permutation_result[self.permutation_result >= 0]\n",
    "        permutation_result_neg = np.abs(self.permutation_result[self.permutation_result < 0])\n",
    "        \n",
    "        print(\"Ground truth:\", '%.2f' % self.ground_truth, '\\n')\n",
    "        print(\"P value one side:\", self.p_value_one_side, '\\n')\n",
    "        print(\"P value two sides:\", self.p_value_two_sides)\n",
    "\n",
    "        sns.distplot(permutation_result_pos, hist = False, kde_kws={\"shade\": True}, label = \"pos\")\n",
    "        sns.distplot(permutation_result_neg, hist = False, kde_kws={\"shade\": True}, label = \"neg\")\n",
    "        plt.axvline(np.abs(self.ground_truth), 0, 1, c = \"Blue\" if self.ground_trut >= 0 else \"Orange\")\n",
    "        plt.legend(bbox_to_anchor=(1.04,1), loc=\"upper left\")\n",
    "        plt.show()   "
   ]
  },
  {
   "cell_type": "code",
   "execution_count": 109,
   "metadata": {},
   "outputs": [],
   "source": [
    "pt = Permutation_test(x, y)"
   ]
  },
  {
   "cell_type": "code",
   "execution_count": 110,
   "metadata": {},
   "outputs": [
    {
     "name": "stdout",
     "output_type": "stream",
     "text": [
      "Ground truth: -26.24 \n",
      "\n",
      "P value one side: 0.0025 \n",
      "\n",
      "P value two sides: 0.0025\n"
     ]
    },
    {
     "data": {
      "image/png": "[encoded data removed]",
      "text/plain": [
       "<Figure size 432x288 with 1 Axes>"
      ]
     },
     "metadata": {
      "needs_background": "light"
     },
     "output_type": "display_data"
    }
   ],
   "source": [
    "pt.distribution_plot()"
   ]
  },
  {
   "cell_type": "code",
   "execution_count": 86,
   "metadata": {},
   "outputs": [],
   "source": [
    "import pdb"
   ]
  },
  {
   "cell_type": "code",
   "execution_count": null,
   "metadata": {},
   "outputs": [],
   "source": [
    "p_val = len(np.where(result<=gt)[0])/no_permutation"
   ]
  },
  {
   "cell_type": "code",
   "execution_count": null,
   "metadata": {},
   "outputs": [],
   "source": [
    "def permutation(x, y):\n",
    "    n_x = len(x)\n",
    "    n_y = len(y)\n",
    "    x_y = x + y\n",
    "    random.shuffle(x_y)\n",
    "    return x_y"
   ]
  },
  {
   "cell_type": "code",
   "execution_count": 16,
   "metadata": {},
   "outputs": [],
   "source": [
    "n_x = int(len(x))\n",
    "n_y = int(len(y))\n",
    "x_y = x + y\n",
    "random.shuffle(x_y)"
   ]
  },
  {
   "cell_type": "code",
   "execution_count": 39,
   "metadata": {},
   "outputs": [],
   "source": [
    "no_permutation = 10000"
   ]
  },
  {
   "cell_type": "code",
   "execution_count": 40,
   "metadata": {},
   "outputs": [],
   "source": [
    "result = []\n",
    "for i in range(0,no_permutation):\n",
    "    # Shuffle the data:\n",
    "    random.shuffle(x_y)\n",
    "    # Compute permuted absolute difference of your two sampled distributions and store it in pD:\n",
    "    result.append(np.average(x_y[0:n_x]) - np.average(x_y[n_y:]))"
   ]
  },
  {
   "cell_type": "code",
   "execution_count": 29,
   "metadata": {},
   "outputs": [],
   "source": [
    "gt = np.average(x) - np.average(y)"
   ]
  },
  {
   "cell_type": "code",
   "execution_count": 35,
   "metadata": {},
   "outputs": [],
   "source": [
    "p_val = len(np.where(result<=gt)[0])/no_permutation"
   ]
  },
  {
   "cell_type": "code",
   "execution_count": 52,
   "metadata": {},
   "outputs": [],
   "source": [
    "result = np.array(result)"
   ]
  },
  {
   "cell_type": "code",
   "execution_count": 53,
   "metadata": {},
   "outputs": [],
   "source": [
    "result_pos = result[result >= 0]\n",
    "result_neg = result[result < 0]"
   ]
  },
  {
   "cell_type": "code",
   "execution_count": 58,
   "metadata": {},
   "outputs": [],
   "source": [
    "result_neg = np.abs(result_neg)"
   ]
  },
  {
   "cell_type": "code",
   "execution_count": 61,
   "metadata": {},
   "outputs": [
    {
     "data": {
      "text/plain": [
       "<function seaborn.distributions.distplot(a, bins=None, hist=True, kde=True, rug=False, fit=None, hist_kws=None, kde_kws=None, rug_kws=None, fit_kws=None, color=None, vertical=False, norm_hist=False, axlabel=None, label=None, ax=None)>"
      ]
     },
     "execution_count": 61,
     "metadata": {},
     "output_type": "execute_result"
    }
   ],
   "source": [
    "sns.distplot"
   ]
  },
  {
   "cell_type": "code",
   "execution_count": 112,
   "metadata": {},
   "outputs": [
    {
     "data": {
      "image/png": "[encoded data removed]",
      "text/plain": [
       "<Figure size 432x288 with 1 Axes>"
      ]
     },
     "metadata": {
      "needs_background": "light"
     },
     "output_type": "display_data"
    }
   ],
   "source": [
    "sns.distplot(result_pos, hist = False, label = \"pos\")\n",
    "sns.distplot(result_neg, hist = False, label = \"neg\" )\n",
    "\n",
    "plt.axvline(np.abs(gt), 0, 1, c = \"Blue\" if gt >= 0 else \"Orange\",label = \"ground truth: \" + '%.2f' % gt)\n",
    "plt.legend(bbox_to_anchor=(1.04,1), loc=\"upper left\")\n",
    "plt.show()"
   ]
  },
  {
   "cell_type": "markdown",
   "metadata": {},
   "source": [
    "# bi normial test"
   ]
  },
  {
   "cell_type": "code",
   "execution_count": 3,
   "metadata": {},
   "outputs": [],
   "source": [
    "import scipy\n",
    "from scipy.stats import binom_test"
   ]
  },
  {
   "cell_type": "code",
   "execution_count": 5,
   "metadata": {},
   "outputs": [
    {
     "data": {
      "text/plain": [
       "0.07883064215278132"
      ]
     },
     "execution_count": 5,
     "metadata": {},
     "output_type": "execute_result"
    }
   ],
   "source": [
    "binom_test(5, 50, float(0.2))"
   ]
  }
 ],
 "metadata": {
  "kernelspec": {
   "display_name": "Python 3",
   "language": "python",
   "name": "python3"
  },
  "language_info": {
   "codemirror_mode": {
    "name": "ipython",
    "version": 3
   },
   "file_extension": ".py",
   "mimetype": "text/x-python",
   "name": "python",
   "nbconvert_exporter": "python",
   "pygments_lexer": "ipython3",
   "version": "3.7.5"
  },
  "toc": {
   "base_numbering": 1,
   "nav_menu": {},
   "number_sections": true,
   "sideBar": true,
   "skip_h1_title": false,
   "title_cell": "Table of Contents",
   "title_sidebar": "Contents",
   "toc_cell": false,
   "toc_position": {},
   "toc_section_display": true,
   "toc_window_display": false
  },
  "varInspector": {
   "cols": {
    "lenName": 16,
    "lenType": 16,
    "lenVar": 40
   },
   "kernels_config": {
    "python": {
     "delete_cmd_postfix": "",
     "delete_cmd_prefix": "del ",
     "library": "var_list.py",
     "varRefreshCmd": "print(var_dic_list())"
    },
    "r": {
     "delete_cmd_postfix": ") ",
     "delete_cmd_prefix": "rm(",
     "library": "var_list.r",
     "varRefreshCmd": "cat(var_dic_list()) "
    }
   },
   "types_to_exclude": [
    "module",
    "function",
    "builtin_function_or_method",
    "instance",
    "_Feature"
   ],
   "window_display": false
  }
 },
 "nbformat": 4,
 "nbformat_minor": 2
}
