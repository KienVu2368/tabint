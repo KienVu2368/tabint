{
 "cells": [
  {
   "cell_type": "code",
   "execution_count": null,
   "metadata": {},
   "outputs": [],
   "source": [
    "import fastText as ft"
   ]
  },
  {
   "cell_type": "code",
   "execution_count": null,
   "metadata": {},
   "outputs": [],
   "source": [
    "import pandas as pd"
   ]
  },
  {
   "cell_type": "code",
   "execution_count": null,
   "metadata": {},
   "outputs": [],
   "source": [
    "data = pd.read_pickle(\"/media/zero/dropbox/Dropbox/metadata/Text/foody review/foody review.pkl\")"
   ]
  },
  {
   "cell_type": "code",
   "execution_count": null,
   "metadata": {},
   "outputs": [
    {
     "data": {
      "text/html": [
       "<div>\n",
       "<style scoped>\n",
       "    .dataframe tbody tr th:only-of-type {\n",
       "        vertical-align: middle;\n",
       "    }\n",
       "\n",
       "    .dataframe tbody tr th {\n",
       "        vertical-align: top;\n",
       "    }\n",
       "\n",
       "    .dataframe thead th {\n",
       "        text-align: right;\n",
       "    }\n",
       "</style>\n",
       "<table border=\"1\" class=\"dataframe\">\n",
       "  <thead>\n",
       "    <tr style=\"text-align: right;\">\n",
       "      <th></th>\n",
       "      <th>user_link</th>\n",
       "      <th>user_name</th>\n",
       "      <th>brand_name</th>\n",
       "      <th>brand_link</th>\n",
       "      <th>review_content</th>\n",
       "      <th>score</th>\n",
       "    </tr>\n",
       "  </thead>\n",
       "  <tbody>\n",
       "    <tr>\n",
       "      <th>0</th>\n",
       "      <td>https://www.foody.vn/thanh-vien/taiyo</td>\n",
       "      <td>Sunny</td>\n",
       "      <td>El Sol - Meat &amp; Wine - Võ Thị Sáu</td>\n",
       "      <td>https://www.foody.vn/ho-chi-minh/el-sol-meat-w...</td>\n",
       "      <td>Quán steak hiếm hoi mà mình cực kì ưng ý từ lâ...</td>\n",
       "      <td>8.6</td>\n",
       "    </tr>\n",
       "    <tr>\n",
       "      <th>1</th>\n",
       "      <td>https://www.foody.vn/thanh-vien/viola_0309_tv</td>\n",
       "      <td>Nguyên Khánh</td>\n",
       "      <td>Busan Korean Food - Món Hàn Quốc - Đinh Tiên H...</td>\n",
       "      <td>https://www.foody.vn/ho-chi-minh/busan-korean-...</td>\n",
       "      <td>Vị trí dễ tìm. Giữ xe rất nhiệt tình. Dắt xe v...</td>\n",
       "      <td>7.4</td>\n",
       "    </tr>\n",
       "    <tr>\n",
       "      <th>2</th>\n",
       "      <td>https://www.foody.vn/thanh-vien/tuhao2509</td>\n",
       "      <td>Tú Hảo</td>\n",
       "      <td>TocoToco Bubble Tea - Cộng Hòa</td>\n",
       "      <td>https://www.foody.vn/ho-chi-minh/tocotoco-bubb...</td>\n",
       "      <td>Địa điểm quán dễ tìm. Không gian cũng rộng, có...</td>\n",
       "      <td>6.4</td>\n",
       "    </tr>\n",
       "    <tr>\n",
       "      <th>3</th>\n",
       "      <td>https://www.foody.vn/thanh-vien/zip_zilip</td>\n",
       "      <td>Vy Nhật</td>\n",
       "      <td>Le Castella Viet Nam - Bánh Bông Lan Đài Loan ...</td>\n",
       "      <td>https://www.foody.vn/ho-chi-minh/le-castella-v...</td>\n",
       "      <td>Thấy bánh này đang hot rần rần mình cũng gọi t...</td>\n",
       "      <td>7.2</td>\n",
       "    </tr>\n",
       "    <tr>\n",
       "      <th>4</th>\n",
       "      <td>https://www.foody.vn/thanh-vien/tien97</td>\n",
       "      <td>Tien97</td>\n",
       "      <td>Tabletop - Boardgame &amp; Coffee</td>\n",
       "      <td>https://www.foody.vn/ho-chi-minh/tabletop-boar...</td>\n",
       "      <td>Mỗi lần nghĩ tới boardgame thì sẽ nghĩ tới vô ...</td>\n",
       "      <td>10.0</td>\n",
       "    </tr>\n",
       "  </tbody>\n",
       "</table>\n",
       "</div>"
      ],
      "text/plain": [
       "                                       user_link     user_name  \\\n",
       "0          https://www.foody.vn/thanh-vien/taiyo         Sunny   \n",
       "1  https://www.foody.vn/thanh-vien/viola_0309_tv  Nguyên Khánh   \n",
       "2      https://www.foody.vn/thanh-vien/tuhao2509        Tú Hảo   \n",
       "3      https://www.foody.vn/thanh-vien/zip_zilip       Vy Nhật   \n",
       "4         https://www.foody.vn/thanh-vien/tien97        Tien97   \n",
       "\n",
       "                                          brand_name  \\\n",
       "0                  El Sol - Meat & Wine - Võ Thị Sáu   \n",
       "1  Busan Korean Food - Món Hàn Quốc - Đinh Tiên H...   \n",
       "2                     TocoToco Bubble Tea - Cộng Hòa   \n",
       "3  Le Castella Viet Nam - Bánh Bông Lan Đài Loan ...   \n",
       "4                      Tabletop - Boardgame & Coffee   \n",
       "\n",
       "                                          brand_link  \\\n",
       "0  https://www.foody.vn/ho-chi-minh/el-sol-meat-w...   \n",
       "1  https://www.foody.vn/ho-chi-minh/busan-korean-...   \n",
       "2  https://www.foody.vn/ho-chi-minh/tocotoco-bubb...   \n",
       "3  https://www.foody.vn/ho-chi-minh/le-castella-v...   \n",
       "4  https://www.foody.vn/ho-chi-minh/tabletop-boar...   \n",
       "\n",
       "                                      review_content  score  \n",
       "0  Quán steak hiếm hoi mà mình cực kì ưng ý từ lâ...    8.6  \n",
       "1  Vị trí dễ tìm. Giữ xe rất nhiệt tình. Dắt xe v...    7.4  \n",
       "2  Địa điểm quán dễ tìm. Không gian cũng rộng, có...    6.4  \n",
       "3  Thấy bánh này đang hot rần rần mình cũng gọi t...    7.2  \n",
       "4  Mỗi lần nghĩ tới boardgame thì sẽ nghĩ tới vô ...   10.0  "
      ]
     },
     "execution_count": null,
     "metadata": {},
     "output_type": "execute_result"
    }
   ],
   "source": [
    "data.head()"
   ]
  },
  {
   "cell_type": "code",
   "execution_count": null,
   "metadata": {},
   "outputs": [],
   "source": [
    "import re"
   ]
  },
  {
   "cell_type": "code",
   "execution_count": null,
   "metadata": {},
   "outputs": [],
   "source": [
    "def string_clean(s):\n",
    "    s_lower = s.lower()\n",
    "    s_clean = \" \".join(re.findall(\"[0-9a-zaáàảãạâấầẩẫậăắằẳẵặeéèẻẽẹêếềểễệiíìỉĩịoóòỏõọôốồổỗộơớờởỡợuúùủũụưứừửữựyýỳỷỹỵđ]+\", s_lower))\n",
    "    return(s_clean)"
   ]
  },
  {
   "cell_type": "code",
   "execution_count": null,
   "metadata": {},
   "outputs": [],
   "source": [
    "reviews = data[['review_content', 'score']]\n",
    "#Để cho đơn giản, giả định điểm số không nhỏ hơn 5 là tốt còn ngược lại là tệ\n",
    "reviews['score'] = reviews['score'].apply(lambda x: '__label__good' if x >= 5 else '__label__bad')\n",
    "reviews['review_content'] = reviews['review_content'].apply(lambda x: string_clean(x))"
   ]
  },
  {
   "cell_type": "code",
   "execution_count": null,
   "metadata": {},
   "outputs": [],
   "source": [
    "review_list = reviews['score'] + ' ' +  reviews['review_content']"
   ]
  },
  {
   "cell_type": "code",
   "execution_count": null,
   "metadata": {},
   "outputs": [],
   "source": [
    "from sklearn.model_selection import train_test_split"
   ]
  },
  {
   "cell_type": "code",
   "execution_count": null,
   "metadata": {},
   "outputs": [],
   "source": [
    "x_train, x_test = train_test_split(review_list, test_size=0.2, random_state=42, shuffle=True)"
   ]
  },
  {
   "cell_type": "code",
   "execution_count": null,
   "metadata": {},
   "outputs": [],
   "source": [
    "train_dir = './review.train'\n",
    "x_train.to_csv(train_dir, header=None, index=False )\n",
    "\n",
    "test_dir = './review.test'\n",
    "x_test.to_csv(test_dir, header=None, index=False )"
   ]
  },
  {
   "cell_type": "code",
   "execution_count": null,
   "metadata": {},
   "outputs": [],
   "source": [
    "output_file = './review_model'\n",
    "classifier = ft.train_supervised(train_dir, verbose=2)"
   ]
  },
  {
   "cell_type": "code",
   "execution_count": null,
   "metadata": {},
   "outputs": [
    {
     "name": "stdout",
     "output_type": "stream",
     "text": [
      "(34876, 0.9587108613373093, 0.9587108613373093)\n"
     ]
    }
   ],
   "source": [
    "print(classifier.test(test_dir))"
   ]
  }
 ],
 "metadata": {
  "kernelspec": {
   "display_name": "Python 3",
   "language": "python",
   "name": "python3"
  }
 },
 "nbformat": 4,
 "nbformat_minor": 2
}
