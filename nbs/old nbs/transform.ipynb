{
 "cells": [
  {
   "cell_type": "code",
   "execution_count": 350,
   "metadata": {},
   "outputs": [],
   "source": [
    "import pandas as pd"
   ]
  },
  {
   "cell_type": "code",
   "execution_count": 684,
   "metadata": {},
   "outputs": [],
   "source": [
    "from tabint.transform import *"
   ]
  },
  {
   "cell_type": "raw",
   "metadata": {},
   "source": [
    "from sklearn.preprocessing import MinMaxScaler"
   ]
  },
  {
   "cell_type": "raw",
   "metadata": {},
   "source": [
    "from sklearn.pipeline import Pipeline"
   ]
  },
  {
   "cell_type": "raw",
   "metadata": {},
   "source": [
    "from sklearn.datasets import load_boston\n",
    "from sklearn.model_selection import train_test_split\n",
    "data = load_boston()"
   ]
  },
  {
   "cell_type": "code",
   "execution_count": 351,
   "metadata": {},
   "outputs": [],
   "source": [
    "from tabint.utils import *"
   ]
  },
  {
   "cell_type": "code",
   "execution_count": 352,
   "metadata": {},
   "outputs": [],
   "source": [
    "data = pd.read_csv('DLCO.csv', sep=\";\")"
   ]
  },
  {
   "cell_type": "code",
   "execution_count": 353,
   "metadata": {},
   "outputs": [],
   "source": [
    "x = data[['Sex', 'Age', 'Height']]"
   ]
  },
  {
   "cell_type": "code",
   "execution_count": 358,
   "metadata": {
    "scrolled": true
   },
   "outputs": [
    {
     "name": "stderr",
     "output_type": "stream",
     "text": [
      "/home/zero/.local/lib/python3.6/site-packages/pandas/core/indexing.py:543: SettingWithCopyWarning: \n",
      "A value is trying to be set on a copy of a slice from a DataFrame.\n",
      "Try using .loc[row_indexer,col_indexer] = value instead\n",
      "\n",
      "See the caveats in the documentation: http://pandas.pydata.org/pandas-docs/stable/indexing.html#indexing-view-versus-copy\n",
      "  self.obj[item] = s\n"
     ]
    }
   ],
   "source": [
    "x.iloc[1,1] = np.NaN"
   ]
  },
  {
   "cell_type": "code",
   "execution_count": 361,
   "metadata": {},
   "outputs": [
    {
     "data": {
      "text/html": [
       "<div>\n",
       "<style scoped>\n",
       "    .dataframe tbody tr th:only-of-type {\n",
       "        vertical-align: middle;\n",
       "    }\n",
       "\n",
       "    .dataframe tbody tr th {\n",
       "        vertical-align: top;\n",
       "    }\n",
       "\n",
       "    .dataframe thead th {\n",
       "        text-align: right;\n",
       "    }\n",
       "</style>\n",
       "<table border=\"1\" class=\"dataframe\">\n",
       "  <thead>\n",
       "    <tr style=\"text-align: right;\">\n",
       "      <th></th>\n",
       "      <th>Sex</th>\n",
       "      <th>Age</th>\n",
       "      <th>Height</th>\n",
       "    </tr>\n",
       "  </thead>\n",
       "  <tbody>\n",
       "    <tr>\n",
       "      <th>0</th>\n",
       "      <td>F</td>\n",
       "      <td>20.0</td>\n",
       "      <td>173.0</td>\n",
       "    </tr>\n",
       "    <tr>\n",
       "      <th>1</th>\n",
       "      <td>F</td>\n",
       "      <td>NaN</td>\n",
       "      <td>165.0</td>\n",
       "    </tr>\n",
       "    <tr>\n",
       "      <th>2</th>\n",
       "      <td>F</td>\n",
       "      <td>22.0</td>\n",
       "      <td>168.6</td>\n",
       "    </tr>\n",
       "    <tr>\n",
       "      <th>3</th>\n",
       "      <td>F</td>\n",
       "      <td>23.0</td>\n",
       "      <td>164.0</td>\n",
       "    </tr>\n",
       "    <tr>\n",
       "      <th>4</th>\n",
       "      <td>F</td>\n",
       "      <td>24.0</td>\n",
       "      <td>170.0</td>\n",
       "    </tr>\n",
       "  </tbody>\n",
       "</table>\n",
       "</div>"
      ],
      "text/plain": [
       "  Sex   Age  Height\n",
       "0   F  20.0   173.0\n",
       "1   F   NaN   165.0\n",
       "2   F  22.0   168.6\n",
       "3   F  23.0   164.0\n",
       "4   F  24.0   170.0"
      ]
     },
     "execution_count": 361,
     "metadata": {},
     "output_type": "execute_result"
    }
   ],
   "source": [
    "x.head()"
   ]
  },
  {
   "cell_type": "code",
   "execution_count": 360,
   "metadata": {},
   "outputs": [],
   "source": [
    "y = data['DLCO']"
   ]
  },
  {
   "cell_type": "markdown",
   "metadata": {
    "heading_collapsed": true
   },
   "source": [
    "# steps and transform"
   ]
  },
  {
   "cell_type": "code",
   "execution_count": 402,
   "metadata": {
    "hidden": true
   },
   "outputs": [],
   "source": [
    "def df_from_array(ary, columns, index = None): return pd.DataFrame(ary, columns=columns, index = index)"
   ]
  },
  {
   "cell_type": "code",
   "execution_count": 680,
   "metadata": {
    "code_folding": [],
    "hidden": true
   },
   "outputs": [],
   "source": [
    "class TBStep:\n",
    "    def __init__(self, **kargs): pass\n",
    "    \n",
    "    def fit(self, **kargs): pass\n",
    "    \n",
    "    def transform(self, df, **kargs): pass\n",
    "    \n",
    "    def fit_transform(self, df):\n",
    "        self.fit(df)\n",
    "        return self.transform(df)"
   ]
  },
  {
   "cell_type": "code",
   "execution_count": 677,
   "metadata": {
    "hidden": true
   },
   "outputs": [],
   "source": [
    "class noop_step(TBStep):\n",
    "    def transform(self, df): return df"
   ]
  },
  {
   "cell_type": "code",
   "execution_count": 678,
   "metadata": {
    "hidden": true
   },
   "outputs": [],
   "source": [
    "noop_transform = TBTransform([noop_step])"
   ]
  },
  {
   "cell_type": "code",
   "execution_count": 676,
   "metadata": {
    "code_folding": [],
    "hidden": true
   },
   "outputs": [],
   "source": [
    "class TBTransform:\n",
    "    def __init__(self, steps):\n",
    "        self.steps = steps\n",
    "        \n",
    "    def __repr__(self):\n",
    "        return '\\n'.join([str(pos) + ' - '+ str(step) for pos, step in enumerate(self.steps)])\n",
    "    \n",
    "    def fit(self, df):\n",
    "        for step in self.steps: step.fit(df)\n",
    "        self.first_transform = True\n",
    "    \n",
    "    def transform(self, df):\n",
    "        df = df.copy()\n",
    "        for step in self.steps: df = step.transform(df)\n",
    "        if self.first_transform is None: self.get_features(df)\n",
    "\n",
    "        return df\n",
    "    \n",
    "    def get_features(self, df):\n",
    "        self.features = df.columns\n",
    "        self.cons = []; self.cats = []\n",
    "        for feature, value in df.items(): \n",
    "            if np.array_equal(np.sort(value.unique()), np.array([0, 1])) or np.array_equal(np.sort(value.unique()), np.array([0])): self.cats.append(feature) \n",
    "            else: self.cons.append(feature)\n",
    "    \n",
    "    def append(self, steps): self.steps.append(steps)\n",
    "    \n",
    "    def insert(self, index, steps): self.steps.insert(index, steps)\n",
    "        \n",
    "    def pop(self, n_pop): self.steps.pop(n_pop)"
   ]
  },
  {
   "cell_type": "markdown",
   "metadata": {
    "heading_collapsed": true
   },
   "source": [
    "# drop features"
   ]
  },
  {
   "cell_type": "code",
   "execution_count": 642,
   "metadata": {
    "code_folding": [],
    "hidden": true
   },
   "outputs": [],
   "source": [
    "class drop_features(TBStep):\n",
    "    def __init__(self, features = None):\n",
    "        self.features = features\n",
    "        \n",
    "    def __repr__(self):\n",
    "        print_features = ', '.join(to_iter(self.features))\n",
    "        return f'drop {print_features}'\n",
    "    \n",
    "    def transform(self, df): return df.drop(self.features, axis=1)"
   ]
  },
  {
   "cell_type": "code",
   "execution_count": 230,
   "metadata": {
    "hidden": true
   },
   "outputs": [],
   "source": [
    "dr = drop_features(['a', 'b'])"
   ]
  },
  {
   "cell_type": "code",
   "execution_count": 231,
   "metadata": {
    "hidden": true
   },
   "outputs": [
    {
     "data": {
      "text/plain": [
       "drop a, b"
      ]
     },
     "execution_count": 231,
     "metadata": {},
     "output_type": "execute_result"
    }
   ],
   "source": [
    "dr"
   ]
  },
  {
   "cell_type": "markdown",
   "metadata": {
    "heading_collapsed": true
   },
   "source": [
    "# select"
   ]
  },
  {
   "cell_type": "code",
   "execution_count": 643,
   "metadata": {
    "hidden": true
   },
   "outputs": [],
   "source": [
    "class select(TBStep):\n",
    "    def __init__(self, features):\n",
    "        self.features = features\n",
    "        \n",
    "    def __repr__(self):\n",
    "        print_features = ', '.join(to_iter(self.features))\n",
    "        return f'select {print_features}'\n",
    "    \n",
    "    def transform(self, df): return df[self.features]"
   ]
  },
  {
   "cell_type": "code",
   "execution_count": 331,
   "metadata": {
    "hidden": true
   },
   "outputs": [],
   "source": [
    "slc = select(['a', 'b'])"
   ]
  },
  {
   "cell_type": "code",
   "execution_count": 332,
   "metadata": {
    "hidden": true
   },
   "outputs": [
    {
     "data": {
      "text/plain": [
       "select a, b"
      ]
     },
     "execution_count": 332,
     "metadata": {},
     "output_type": "execute_result"
    }
   ],
   "source": [
    "slc"
   ]
  },
  {
   "cell_type": "markdown",
   "metadata": {
    "heading_collapsed": true
   },
   "source": [
    "# apply function"
   ]
  },
  {
   "cell_type": "code",
   "execution_count": 484,
   "metadata": {
    "hidden": true
   },
   "outputs": [],
   "source": [
    "def unique_list(*agrs):\n",
    "    lists = []\n",
    "    for agr in agrs: lists += list(agr)\n",
    "    return list(set(lists))"
   ]
  },
  {
   "cell_type": "code",
   "execution_count": 485,
   "metadata": {
    "hidden": true
   },
   "outputs": [
    {
     "data": {
      "text/plain": [
       "['b', 'c', 'a']"
      ]
     },
     "execution_count": 485,
     "metadata": {},
     "output_type": "execute_result"
    }
   ],
   "source": [
    "unique_list(['a', 'b'], ['a', 'c'])"
   ]
  },
  {
   "cell_type": "code",
   "execution_count": 644,
   "metadata": {
    "hidden": true
   },
   "outputs": [],
   "source": [
    "class apply_function(TBStep):\n",
    "    def __init__(self, function_dict): self.function_dict = function_dict\n",
    "        \n",
    "    def __repr__(self): \n",
    "        keys = ', '.join(self.function_dict.keys())\n",
    "        return f'apply function for {keys}'\n",
    "    \n",
    "    def transform(self, df): \n",
    "        df = df.copy()\n",
    "        for key in self.function_dict.keys(): df[key] = self.function_dict[key](df)\n",
    "        return df"
   ]
  },
  {
   "cell_type": "code",
   "execution_count": 341,
   "metadata": {
    "hidden": true
   },
   "outputs": [],
   "source": [
    "af = apply_function({'Sex': lambda df: df['Sex'].apply(lambda x : 1 if x == 'F' else 0)})"
   ]
  },
  {
   "cell_type": "code",
   "execution_count": 342,
   "metadata": {
    "hidden": true
   },
   "outputs": [
    {
     "data": {
      "text/plain": [
       "apply function for Sex"
      ]
     },
     "execution_count": 342,
     "metadata": {},
     "output_type": "execute_result"
    }
   ],
   "source": [
    "af"
   ]
  },
  {
   "cell_type": "code",
   "execution_count": 344,
   "metadata": {
    "hidden": true
   },
   "outputs": [],
   "source": [
    "af.fit(x)"
   ]
  },
  {
   "cell_type": "code",
   "execution_count": null,
   "metadata": {
    "hidden": true
   },
   "outputs": [],
   "source": []
  },
  {
   "cell_type": "markdown",
   "metadata": {
    "heading_collapsed": true
   },
   "source": [
    "# fill na"
   ]
  },
  {
   "cell_type": "code",
   "execution_count": 646,
   "metadata": {
    "code_folding": [],
    "hidden": true
   },
   "outputs": [],
   "source": [
    "class fill_na(TBStep):\n",
    "    def __init__(self, features = None):\n",
    "        self.na_dict = {}\n",
    "        self.features = features\n",
    "        \n",
    "    def __repr__(self):\n",
    "        return 'fill na'    \n",
    "    \n",
    "    def fit(self, df):        \n",
    "        if self.features is None: self.features = df.columns\n",
    "        for feature in self.features:\n",
    "            if is_numeric_dtype(df[feature].values):\n",
    "                if pd.isnull(df[feature]).sum(): \n",
    "                    self.na_dict[feature] = df[feature].median()\n",
    "    \n",
    "    def transform(self, df):\n",
    "        df = df.copy()\n",
    "        for key in self.na_dict.keys(): df[key] = df[key].fillna(self.na_dict[key])\n",
    "        return(df)"
   ]
  },
  {
   "cell_type": "markdown",
   "metadata": {},
   "source": [
    "# remove outlier"
   ]
  },
  {
   "cell_type": "code",
   "execution_count": 93,
   "metadata": {},
   "outputs": [],
   "source": [
    "from tabint.pre_processing import *\n",
    "from tabint.utils import *"
   ]
  },
  {
   "cell_type": "code",
   "execution_count": 685,
   "metadata": {},
   "outputs": [],
   "source": [
    "class remove_outlier(TBStep): \n",
    "    def __init__(self, features = None):\n",
    "        self.features = features\n",
    "        \n",
    "    def __repr__(self):\n",
    "        print_features = ', '.join(to_iter(self.features))\n",
    "        return f'remove outlier of {print_features}'\n",
    "        \n",
    "    def fit(self, df):\n",
    "        self.bw_dict = {}\n",
    "        if self.features is None: self.features = df.columns\n",
    "        for feature, value in df[self.features].items():\n",
    "            if is_numeric_dtype(value):\n",
    "                self.bw_dict[feature] = {}\n",
    "                Min, _, _, _, Max, _ = boxnwhisker_value(value)\n",
    "                self.bw_dict[feature]['Min'] = Min\n",
    "                self.bw_dict[feature]['Max'] = Max\n",
    "        \n",
    "    def transform(self, df):\n",
    "        mask =  np.full(df.shape[0], True)\n",
    "        for key in self.bw_dict.keys():\n",
    "            values = df[key].values\n",
    "            Min = self.bw_dict[key]['Min']\n",
    "            Max = self.bw_dict[key]['Max']\n",
    "            inlier = np.logical_and(values >= Min, values <= Max)\n",
    "            mask = np.logical_and(mask, inlier)\n",
    "        self.mask = mask\n",
    "        return df[mask]"
   ]
  },
  {
   "cell_type": "code",
   "execution_count": 233,
   "metadata": {},
   "outputs": [],
   "source": [
    "ro = remove_outlier(['a', 'b'])"
   ]
  },
  {
   "cell_type": "code",
   "execution_count": 234,
   "metadata": {},
   "outputs": [
    {
     "data": {
      "text/plain": [
       "remove outlier of a, b"
      ]
     },
     "execution_count": 234,
     "metadata": {},
     "output_type": "execute_result"
    }
   ],
   "source": [
    "ro"
   ]
  },
  {
   "cell_type": "markdown",
   "metadata": {
    "heading_collapsed": true
   },
   "source": [
    "# subset"
   ]
  },
  {
   "cell_type": "code",
   "execution_count": 649,
   "metadata": {
    "hidden": true
   },
   "outputs": [],
   "source": [
    "class subset(TBStep): \n",
    "    def __init__(self, n_sample = None, ratio = 0.3):\n",
    "        self.n_sample = n_sample\n",
    "        self.ratio = ratio\n",
    "        \n",
    "    def __repr__(self): return f'select subset with {self.n_sample} samples'\n",
    "    \n",
    "    def fit(self, df):\n",
    "        if self.n_sample is None: self.n_sample = self.ratio*df.shape[0]\n",
    "        \n",
    "    def transform(self, df): return df.sample(self.n_sample)"
   ]
  },
  {
   "cell_type": "code",
   "execution_count": 347,
   "metadata": {
    "hidden": true
   },
   "outputs": [
    {
     "data": {
      "text/plain": [
       "637"
      ]
     },
     "execution_count": 347,
     "metadata": {},
     "output_type": "execute_result"
    }
   ],
   "source": [
    "x.shape[0]"
   ]
  },
  {
   "cell_type": "code",
   "execution_count": 236,
   "metadata": {
    "hidden": true
   },
   "outputs": [],
   "source": [
    "ss = subset(20)"
   ]
  },
  {
   "cell_type": "code",
   "execution_count": 237,
   "metadata": {
    "hidden": true
   },
   "outputs": [
    {
     "data": {
      "text/plain": [
       "select subset of 20 samples"
      ]
     },
     "execution_count": 237,
     "metadata": {},
     "output_type": "execute_result"
    }
   ],
   "source": [
    "ss"
   ]
  },
  {
   "cell_type": "markdown",
   "metadata": {
    "heading_collapsed": true
   },
   "source": [
    "# app cat"
   ]
  },
  {
   "cell_type": "code",
   "execution_count": 664,
   "metadata": {
    "hidden": true
   },
   "outputs": [],
   "source": [
    "class app_cat(TBStep):\n",
    "    def __init__(self, max_n_cat=15, features = None):\n",
    "        self.max_n_cat = max_n_cat\n",
    "        self.features = features\n",
    "        \n",
    "    def __repr__(self): return f'apply category with maximum number of distinct value is {self.max_n_cat}'\n",
    "    \n",
    "    def fit(self, df):\n",
    "        if self.features is None: self.features = df.columns\n",
    "        self.app_cat_dict = {}\n",
    "        for feature, value in df[self.features].items():\n",
    "            if is_numeric_dtype(value) and value.dtypes != np.bool:\n",
    "                if value.nunique()<=self.max_n_cat:\n",
    "                    if not np.array_equal(value.unique(), np.array([0, 1])): \n",
    "                        self.app_cat_dict[feature] = self.as_category_as_order\n",
    "            else:\n",
    "                if value.nunique()>self.max_n_cat: self.app_cat_dict[feature] = self.as_category_as_codes\n",
    "                elif value.dtypes.name == 'object': self.app_cat_dict[feature] = self.as_category_as_order\n",
    "                elif value.dtypes.name == 'category': self.app_cat_dict[feature] = self.cat_as_order\n",
    "    \n",
    "    @staticmethod\n",
    "    def cat_as_order(x): return x.cat.as_ordered()\n",
    "    \n",
    "    @staticmethod\n",
    "    def as_category_as_codes(x): return x.astype('category').cat.codes+1\n",
    "    \n",
    "    @staticmethod\n",
    "    def as_category_as_order(x): return x.astype('category').cat.as_ordered()\n",
    "        \n",
    "    def transform(self, df):\n",
    "        df = df.copy()\n",
    "        for key in self.app_cat_dict.keys(): df[key] = self.app_cat_dict[key](df[key])\n",
    "        return df"
   ]
  },
  {
   "cell_type": "code",
   "execution_count": 243,
   "metadata": {
    "code_folding": [],
    "hidden": true
   },
   "outputs": [],
   "source": [
    "ac = app_cat()"
   ]
  },
  {
   "cell_type": "code",
   "execution_count": 244,
   "metadata": {
    "hidden": true,
    "scrolled": true
   },
   "outputs": [
    {
     "data": {
      "text/plain": [
       "apply category with maximum number of distinct value is 15"
      ]
     },
     "execution_count": 244,
     "metadata": {},
     "output_type": "execute_result"
    }
   ],
   "source": [
    "ac"
   ]
  },
  {
   "cell_type": "markdown",
   "metadata": {
    "heading_collapsed": true
   },
   "source": [
    "# dummies"
   ]
  },
  {
   "cell_type": "code",
   "execution_count": 438,
   "metadata": {
    "hidden": true
   },
   "outputs": [
    {
     "data": {
      "text/plain": [
       "{'a', 'b', 'c'}"
      ]
     },
     "execution_count": 438,
     "metadata": {},
     "output_type": "execute_result"
    }
   ],
   "source": [
    "set(['a', 'b'] + ['a', 'c'])"
   ]
  },
  {
   "cell_type": "code",
   "execution_count": 651,
   "metadata": {
    "hidden": true
   },
   "outputs": [],
   "source": [
    "class dummies(TBStep):\n",
    "    def __init__(self, dummy_na = True):\n",
    "        self.dummy_na = dummy_na\n",
    "\n",
    "    def __repr__(self): return 'get dummies'\n",
    "        \n",
    "    def transform(self, df):\n",
    "        df = df.copy()\n",
    "        df = pd.get_dummies(df, dummy_na=self.dummy_na)\n",
    "        return df"
   ]
  },
  {
   "cell_type": "markdown",
   "metadata": {
    "heading_collapsed": true
   },
   "source": [
    "# scale var"
   ]
  },
  {
   "cell_type": "code",
   "execution_count": 258,
   "metadata": {
    "hidden": true
   },
   "outputs": [],
   "source": [
    "import warnings\n",
    "import sklearn"
   ]
  },
  {
   "cell_type": "code",
   "execution_count": 261,
   "metadata": {
    "hidden": true
   },
   "outputs": [],
   "source": [
    "from sklearn.exceptions import DataConversionWarning"
   ]
  },
  {
   "cell_type": "code",
   "execution_count": 652,
   "metadata": {
    "hidden": true
   },
   "outputs": [],
   "source": [
    "class scale_vars(TBStep):\n",
    "    def __init__(self, features = None):\n",
    "        warnings.filterwarnings('ignore', category=sklearn.exceptions.DataConversionWarning)\n",
    "        self.features= features\n",
    "        \n",
    "    def __repr__(self): return 'scale features'\n",
    "    \n",
    "    def fit(self, df):\n",
    "        if self.features is None: self.features = df.columns        \n",
    "        self.features = [i for i in self.features if is_numeric_dtype(df[i])]\n",
    "        map_f = [([n],StandardScaler()) for n in df[self.features].columns]\n",
    "        self.mapper = DataFrameMapper(map_f).fit(df[self.features].dropna(axis=0))\n",
    "        \n",
    "    def transform(self, df):\n",
    "        df = df.copy()\n",
    "        df[self.mapper.transformed_names_] = self.mapper.transform(df[self.features])\n",
    "        return df"
   ]
  },
  {
   "cell_type": "code",
   "execution_count": 274,
   "metadata": {
    "hidden": true
   },
   "outputs": [],
   "source": [
    "sv = scale_vars()"
   ]
  },
  {
   "cell_type": "code",
   "execution_count": 275,
   "metadata": {
    "hidden": true
   },
   "outputs": [
    {
     "data": {
      "text/plain": [
       "scale features"
      ]
     },
     "execution_count": 275,
     "metadata": {},
     "output_type": "execute_result"
    }
   ],
   "source": [
    "sv"
   ]
  },
  {
   "cell_type": "code",
   "execution_count": 276,
   "metadata": {
    "hidden": true
   },
   "outputs": [],
   "source": [
    "sv.fit(x)"
   ]
  },
  {
   "cell_type": "markdown",
   "metadata": {
    "heading_collapsed": true
   },
   "source": [
    "# test"
   ]
  },
  {
   "cell_type": "code",
   "execution_count": 665,
   "metadata": {
    "hidden": true
   },
   "outputs": [],
   "source": [
    "steps = [apply_function({'height2': lambda df: df['Height']*2}),\n",
    "        fill_na(),\n",
    "         select(['Sex', 'Age', 'Height', 'height2']),\n",
    "         drop_features('height2'),\n",
    "         scale_vars(),\n",
    "         app_cat(),\n",
    "         dummies(),\n",
    "         remove_outlier('Height')]"
   ]
  },
  {
   "cell_type": "code",
   "execution_count": 666,
   "metadata": {
    "hidden": true
   },
   "outputs": [],
   "source": [
    "tfms = TBTransform(steps)"
   ]
  },
  {
   "cell_type": "code",
   "execution_count": 667,
   "metadata": {
    "hidden": true
   },
   "outputs": [
    {
     "data": {
      "text/plain": [
       "0 - apply function for height2\n",
       "1 - fill na\n",
       "2 - select Sex, Age, Height, height2\n",
       "3 - drop height2\n",
       "4 - scale features\n",
       "5 - apply category with maximum number of distinct value is 15\n",
       "6 - get dummies\n",
       "7 - remove outlier of Height"
      ]
     },
     "execution_count": 667,
     "metadata": {},
     "output_type": "execute_result"
    }
   ],
   "source": [
    "tfms"
   ]
  },
  {
   "cell_type": "code",
   "execution_count": 668,
   "metadata": {
    "hidden": true
   },
   "outputs": [],
   "source": [
    "tfms.fit(x)"
   ]
  },
  {
   "cell_type": "code",
   "execution_count": 669,
   "metadata": {
    "hidden": true
   },
   "outputs": [],
   "source": [
    "a = tfms.transform(x)"
   ]
  },
  {
   "cell_type": "code",
   "execution_count": 670,
   "metadata": {
    "hidden": true
   },
   "outputs": [
    {
     "data": {
      "text/plain": [
       "Index(['Age', 'Height', 'Sex_F', 'Sex_M', 'Sex_nan'], dtype='object')"
      ]
     },
     "execution_count": 670,
     "metadata": {},
     "output_type": "execute_result"
    }
   ],
   "source": [
    "tfms.features"
   ]
  },
  {
   "cell_type": "code",
   "execution_count": 671,
   "metadata": {
    "hidden": true
   },
   "outputs": [
    {
     "data": {
      "text/plain": [
       "['Sex_F', 'Sex_M', 'Sex_nan']"
      ]
     },
     "execution_count": 671,
     "metadata": {},
     "output_type": "execute_result"
    }
   ],
   "source": [
    "tfms.cats"
   ]
  },
  {
   "cell_type": "code",
   "execution_count": 672,
   "metadata": {
    "hidden": true
   },
   "outputs": [
    {
     "data": {
      "text/plain": [
       "['Age', 'Height']"
      ]
     },
     "execution_count": 672,
     "metadata": {},
     "output_type": "execute_result"
    }
   ],
   "source": [
    "tfms.cons"
   ]
  },
  {
   "cell_type": "code",
   "execution_count": 630,
   "metadata": {
    "hidden": true
   },
   "outputs": [
    {
     "data": {
      "text/plain": [
       "array([0], dtype=uint64)"
      ]
     },
     "execution_count": 630,
     "metadata": {},
     "output_type": "execute_result"
    }
   ],
   "source": [
    "a.Sex_nan.unique()"
   ]
  },
  {
   "cell_type": "code",
   "execution_count": 614,
   "metadata": {
    "hidden": true
   },
   "outputs": [
    {
     "data": {
      "text/plain": [
       "array([0, 1], dtype=uint64)"
      ]
     },
     "execution_count": 614,
     "metadata": {},
     "output_type": "execute_result"
    }
   ],
   "source": [
    "np.sort(a.Sex_F.unique())"
   ]
  },
  {
   "cell_type": "code",
   "execution_count": 610,
   "metadata": {
    "hidden": true
   },
   "outputs": [
    {
     "data": {
      "text/plain": [
       "False"
      ]
     },
     "execution_count": 610,
     "metadata": {},
     "output_type": "execute_result"
    }
   ],
   "source": [
    "np.array_equal(a.Sex_F.unique(), np.array([0, 1]))"
   ]
  },
  {
   "cell_type": "markdown",
   "metadata": {},
   "source": [
    "# dataset"
   ]
  },
  {
   "cell_type": "code",
   "execution_count": 539,
   "metadata": {
    "code_folding": [
     0
    ]
   },
   "outputs": [],
   "source": [
    "from sklearn.model_selection import StratifiedShuffleSplit\n",
    "from sklearn.utils.validation import _num_samples, check_array\n",
    "from sklearn.model_selection._split import _approximate_mode, _validate_shuffle_split\n",
    "from sklearn.utils import indexable, check_random_state, safe_indexing\n",
    "\n",
    "class split_by_cats(StratifiedShuffleSplit):\n",
    "    def _iter_indices(self, X, y, groups=None):\n",
    "        n_samples = _num_samples(X)\n",
    "        y = check_array(y, ensure_2d=False, dtype=None)\n",
    "        n_train, n_test = _validate_shuffle_split(n_samples, self.test_size,\n",
    "                                                  self.train_size)\n",
    "\n",
    "        if y.ndim == 2:\n",
    "            # for multi-label y, map each distinct row to a string repr\n",
    "            # using join because str(row) uses an ellipsis if len(row) > 1000\n",
    "            y = np.array([' '.join(row.astype('str')) for row in y])\n",
    "\n",
    "        classes, y_indices = np.unique(y, return_inverse=True)\n",
    "        n_classes = classes.shape[0]\n",
    "\n",
    "        class_counts = np.bincount(y_indices)\n",
    "        if np.min(class_counts) < 2:\n",
    "            print(ValueError(\"The least populated class in y has only 1\"\n",
    "                             \" member, which is too few. The minimum\"\n",
    "                             \" number of groups for any class cannot\"\n",
    "                             \" be less than 2.\"))\n",
    "\n",
    "        if n_train < n_classes:\n",
    "            print(ValueError('The train_size = %d should be greater or '\n",
    "                             'equal to the number of classes = %d' %\n",
    "                             (n_train, n_classes)))\n",
    "        if n_test < n_classes:\n",
    "            print(ValueError('The test_size = %d should be greater or '\n",
    "                             'equal to the number of classes = %d' %\n",
    "                             (n_test, n_classes)))\n",
    "\n",
    "        # Find the sorted list of instances for each class:\n",
    "        # (np.unique above performs a sort, so code is O(n logn) already)\n",
    "        class_indices = np.split(np.argsort(y_indices, kind='mergesort'),\n",
    "                                 np.cumsum(class_counts)[:-1])\n",
    "\n",
    "        rng = check_random_state(self.random_state)\n",
    "\n",
    "        for _ in range(self.n_splits):\n",
    "            # if there are ties in the class-counts, we want\n",
    "            # to make sure to break them anew in each iteration\n",
    "            n_i = _approximate_mode(class_counts, n_train, rng)\n",
    "            class_counts_remaining = class_counts - n_i\n",
    "            t_i = _approximate_mode(class_counts_remaining, n_test, rng)\n",
    "\n",
    "            train = []\n",
    "            test = []\n",
    "\n",
    "            for i in range(n_classes):\n",
    "                permutation = rng.permutation(class_counts[i])\n",
    "                perm_indices_class_i = class_indices[i].take(permutation,\n",
    "                                                             mode='clip')\n",
    "\n",
    "                train.extend(perm_indices_class_i[:n_i[i]])\n",
    "                test.extend(perm_indices_class_i[n_i[i]:n_i[i] + t_i[i]])\n",
    "\n",
    "            train = rng.permutation(train)\n",
    "            test = rng.permutation(test)\n",
    "\n",
    "            yield train, test"
   ]
  },
  {
   "cell_type": "code",
   "execution_count": 532,
   "metadata": {},
   "outputs": [],
   "source": [
    "def split_time_series(df, time_feature, ratio):\n",
    "    df = df.copy()\n",
    "    df = df.sort_values(by=time_feature, ascending=True)\n",
    "    split_id = int(df.shape*(1-ratio))\n",
    "    x_trn, y_trn = df[:split_id], y[:split_id]\n",
    "    x_val, y_val = df[split_id:], y[split_id:]\n",
    "    return x_trn, y_trn, x_val, y_val"
   ]
  },
  {
   "cell_type": "code",
   "execution_count": 557,
   "metadata": {},
   "outputs": [],
   "source": [
    "def stratify_split(df, y, cats, ratio):\n",
    "    keys = df[cats]\n",
    "    if y.dtype.name[:5] != 'float': keys = pd.concat([keys, y], axis=1)\n",
    "    keys = keys.apply(lambda x: '~'.join([str(j) for j in x.values]), axis=1)\n",
    "\n",
    "    sss = split_by_cats(train_size =1-ratio, test_size=ratio)\n",
    "    train, val = next(sss.split(df, keys))                \n",
    "    x_trn, x_val = safe_indexing(df, train), safe_indexing(df, val)            \n",
    "    y_trn, y_val = safe_indexing(y, train), safe_indexing(y, val)\n",
    "    return x_trn, y_trn, x_val, y_val"
   ]
  },
  {
   "cell_type": "code",
   "execution_count": 565,
   "metadata": {
    "scrolled": false
   },
   "outputs": [],
   "source": [
    "ds = TBDataset.from_SKSplit(x, y, cats = 'Sex')"
   ]
  },
  {
   "cell_type": "code",
   "execution_count": 566,
   "metadata": {},
   "outputs": [
    {
     "data": {
      "text/plain": [
       "(509, 3)"
      ]
     },
     "execution_count": 566,
     "metadata": {},
     "output_type": "execute_result"
    }
   ],
   "source": [
    "ds.x_trn.shape"
   ]
  },
  {
   "cell_type": "code",
   "execution_count": 567,
   "metadata": {
    "scrolled": true
   },
   "outputs": [
    {
     "data": {
      "text/plain": [
       "['Age', 'Height']"
      ]
     },
     "execution_count": 567,
     "metadata": {},
     "output_type": "execute_result"
    }
   ],
   "source": [
    "ds.cons"
   ]
  },
  {
   "cell_type": "code",
   "execution_count": 686,
   "metadata": {},
   "outputs": [],
   "source": [
    "class TBDataset:\n",
    "    \"\"\"\n",
    "    Contain train, validation, test set\n",
    "    \"\"\"\n",
    "    def __init__(self, x_trn, x_val, x_tst, x_tfms, y_trn, y_val, y_tfms):            \n",
    "        self.x_trn, self.y_trn, self.x_tst = x_trn, y_trn, x_tst\n",
    "        self.x_val, self.y_val = x_val, y_val\n",
    "        self.x_tfms, self.y_tfms = x_tfms, y_tfms\n",
    "\n",
    "    @classmethod\n",
    "    def from_Split(cls, df, y = None, y_field = None, tp = '_',  \n",
    "                     x_tst = None, time_feature = None, ratio = 0.2, \n",
    "                     x_tfms = None, y_tfms = None, **kargs):\n",
    "        \"\"\"\n",
    "        use sklearn split function to split data\n",
    "        \"\"\"\n",
    "        df = df.copy()\n",
    "        \n",
    "        if y is None: y = df[y_field]; df = df.drop(y_field, axis = 1)\n",
    "            \n",
    "        if tp != 'time series': x_trn, y_trn, x_val, y_val = stratify_split(df, y, x_tfms.cats, ratio)\n",
    "        else: x_trn, y_trn, x_val, y_val = split_time_series(df, time_feature, ratio)\n",
    "        \n",
    "        x_trn, x_val, x_tst, y_trn, y_val, x_tfms, y_tfms = transform_data(x_trn, x_val, x_tst, y_trn, y_val, x_tfms, y_tfms)\n",
    "        return cls(x_trn, x_val, x_tst, x_tfms, y_trn, y_val, y_tfms)\n",
    "    \n",
    "    @staticmethod\n",
    "    def transform_data(x_trn, x_val, x_tst, y_trn, y_val, x_tfms, y_tfms):\n",
    "        if x_tfms is not None: x_tfms = noop_transform\n",
    "        x_tfms.fit(x_trn)\n",
    "        x_trn = x_tfms.transform(x_trn)\n",
    "        x_val = x_tfms.transform(x_val)\n",
    "        if x_tst is not None: x_tst = x_tfms.transform(x_tst)\n",
    "                \n",
    "        if y_tfms is not None: y_tfms = noop_transform\n",
    "        y_tfms.fit(y_trn)\n",
    "        y_trn = y_tfms.transform(y_trn)\n",
    "        y_val = y_tfms.transform(y_val)\n",
    "            \n",
    "        return x_trn, x_val, x_tst, y_trn, y_val, x_tfms, y_tfms         \n",
    "            \n",
    "    def val_permutation(self, features):\n",
    "        \"\"\"\"\n",
    "        permute one or many columns of validation set. For permutation importance\n",
    "        \"\"\"\n",
    "        features = to_iter(features)\n",
    "        df = self.x_val.copy()\n",
    "        for ft in features: df[ft] = np.random.permutation(df[ft])\n",
    "        return df\n",
    "\n",
    "    def apply_function(self, feature, function_dict, inplace = True, tp = 'trn'):\n",
    "        \"\"\"\n",
    "        apply a function f for all dataset\n",
    "        \"\"\"\n",
    "        features = to_iter(features)\n",
    "        step = apply_function(function_dict).fit(self.x_trn)\n",
    "        self.apply_step(step, features, inplace, tp)\n",
    "\n",
    "    def sample(self, tp = 'trn', ratio = 0.3):\n",
    "        \"\"\"\n",
    "        get sample of dataset\n",
    "        \"\"\"\n",
    "        if 'tst' == tp: \n",
    "            return None if self.x_tst is None else self.x_tst.sample(self.x_tst.shape[0]*ratio)\n",
    "        else:\n",
    "            df, y = (self.x_trn, self.y_trn) if tp == 'trn' else (self.x_val, self.y_val)\n",
    "            _, df, _, y = train_test_split(df, y, test_size = ratio, stratify = y)\n",
    "            return df, y\n",
    "\n",
    "    def select(self, features, inplace = True, tp = 'trn'):\n",
    "        \"\"\"\n",
    "        keep columns of dataset\n",
    "        \"\"\"\n",
    "        features = to_iter(features)\n",
    "        step = select(features).fit(self.x_trn)\n",
    "        self.apply_step(step, features, inplace, tp)\n",
    "        \n",
    "    def drop(self, feature, inplace = True, tp = 'trn'):\n",
    "        \"\"\"\n",
    "        drop columns of dataset\n",
    "        \"\"\"\n",
    "        features = to_iter(features)\n",
    "        step = drop_features(features).fit(self.x_trn)\n",
    "        self.apply_step(step, features, inplace, tp)\n",
    "            \n",
    "    def remove_outlier(self, features = None, inplace = True, tp = 'trn'):\n",
    "        features = features or self.cons\n",
    "        features = to_iter(features)\n",
    "        mask_trn = self.get_mask_outlier(self.x_trn, features)\n",
    "        mask_val = self.get_mask_outlier(self.x_val, features)\n",
    "        if inplace:\n",
    "            self.x_trn, self.y_trn = self.x_trn[mask_trn], self.y_trn[mask_trn]\n",
    "            self.x_val, self.y_val = self.x_val[mask_val], self.y_val[mask_val]\n",
    "        else:\n",
    "            return (self.x_trn[mask_trn], self.y_trn[mask_trn]) if tp == 'trn' else (self.x_val[mask_val], self.y_val[mask_val])\n",
    "    \n",
    "    def get_mask_outlier(self, df, features):\n",
    "        step = remove_outlier(features)\n",
    "        step.fit(df)\n",
    "        _ = step.transform(df)\n",
    "        mask = step.mask\n",
    "        return mask\n",
    "    \n",
    "    \n",
    "    def apply_step(self, step, features, inplace, tp):\n",
    "        if inplace:\n",
    "            x_tfms.append(step)\n",
    "            self.x_trn = step.transform(self.x_trn)\n",
    "            self.x_val = step.transform(self.x_val)\n",
    "            if self.x_tst is not None: self.x_tst = step.transform(self.x_tst)\n",
    "            x_tfms.get_features(self.x_trn)    \n",
    "        else:\n",
    "            if tp == 'tst': return None if self.x_tst is None else step.transform(self.x_tst)\n",
    "            else: return (step.transform(self.x_trn), self.y_trn) if tp == 'trn' else (step.transform(self.x_val), self.y_val)    \n",
    "    \n",
    "    @property\n",
    "    def cons(self): return self.x_tfms.cons\n",
    "    \n",
    "    @property\n",
    "    def cats(self): return self.x_tfms.cats\n",
    "    \n",
    "    @property\n",
    "    def features(self): return self.x_trn.columns\n",
    "\n",
    "    @property\n",
    "    def trn(self): return self.x_trn, self.y_trn\n",
    "\n",
    "    @property\n",
    "    def n_trn(self): return self.x_trn.shape[0]\n",
    "\n",
    "    @property\n",
    "    def val(self): return self.x_val, self.y_val\n",
    "\n",
    "    @property\n",
    "    def n_val(self): return self.x_val.shape[0]"
   ]
  },
  {
   "cell_type": "code",
   "execution_count": null,
   "metadata": {},
   "outputs": [],
   "source": [
    "\n",
    "\n"
   ]
  }
 ],
 "metadata": {
  "kernelspec": {
   "display_name": "Python 3",
   "language": "python",
   "name": "python3"
  },
  "language_info": {
   "codemirror_mode": {
    "name": "ipython",
    "version": 3
   },
   "file_extension": ".py",
   "mimetype": "text/x-python",
   "name": "python",
   "nbconvert_exporter": "python",
   "pygments_lexer": "ipython3",
   "version": "3.6.4"
  },
  "toc": {
   "nav_menu": {},
   "number_sections": true,
   "sideBar": true,
   "skip_h1_title": false,
   "toc_cell": false,
   "toc_position": {},
   "toc_section_display": "block",
   "toc_window_display": false
  },
  "varInspector": {
   "cols": {
    "lenName": 16,
    "lenType": 16,
    "lenVar": 40
   },
   "kernels_config": {
    "python": {
     "delete_cmd_postfix": "",
     "delete_cmd_prefix": "del ",
     "library": "var_list.py",
     "varRefreshCmd": "print(var_dic_list())"
    },
    "r": {
     "delete_cmd_postfix": ") ",
     "delete_cmd_prefix": "rm(",
     "library": "var_list.r",
     "varRefreshCmd": "cat(var_dic_list()) "
    }
   },
   "types_to_exclude": [
    "module",
    "function",
    "builtin_function_or_method",
    "instance",
    "_Feature"
   ],
   "window_display": false
  }
 },
 "nbformat": 4,
 "nbformat_minor": 2
}
